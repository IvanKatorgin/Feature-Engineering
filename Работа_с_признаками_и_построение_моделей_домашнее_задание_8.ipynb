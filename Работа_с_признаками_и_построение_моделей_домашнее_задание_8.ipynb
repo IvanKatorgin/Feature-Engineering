{
  "nbformat": 4,
  "nbformat_minor": 0,
  "metadata": {
    "colab": {
      "provenance": [],
      "authorship_tag": "ABX9TyOTHNowTnG/77MPcjnUn8l0",
      "include_colab_link": true
    },
    "kernelspec": {
      "name": "python3",
      "display_name": "Python 3"
    },
    "language_info": {
      "name": "python"
    }
  },
  "cells": [
    {
      "cell_type": "markdown",
      "metadata": {
        "id": "view-in-github",
        "colab_type": "text"
      },
      "source": [
        "<a href=\"https://colab.research.google.com/github/IvanKatorgin/Feature-Engineering/blob/main/%D0%A0%D0%B0%D0%B1%D0%BE%D1%82%D0%B0_%D1%81_%D0%BF%D1%80%D0%B8%D0%B7%D0%BD%D0%B0%D0%BA%D0%B0%D0%BC%D0%B8_%D0%B8_%D0%BF%D0%BE%D1%81%D1%82%D1%80%D0%BE%D0%B5%D0%BD%D0%B8%D0%B5_%D0%BC%D0%BE%D0%B4%D0%B5%D0%BB%D0%B5%D0%B9_%D0%B4%D0%BE%D0%BC%D0%B0%D1%88%D0%BD%D0%B5%D0%B5_%D0%B7%D0%B0%D0%B4%D0%B0%D0%BD%D0%B8%D0%B5_8.ipynb\" target=\"_parent\"><img src=\"https://colab.research.google.com/assets/colab-badge.svg\" alt=\"Open In Colab\"/></a>"
      ]
    },
    {
      "cell_type": "markdown",
      "source": [
        "Курс \"Работа с признаками и построение моделей\". Домашнее задание 8. Поиск выбросов и генерация новых признаков. Каторгин И.П."
      ],
      "metadata": {
        "id": "yeNN87MJFA7e"
      }
    },
    {
      "cell_type": "markdown",
      "source": [
        "## Описание задания"
      ],
      "metadata": {
        "id": "-RA-GDDsJ7OR"
      }
    },
    {
      "cell_type": "markdown",
      "source": [
        "В домашнем задании нужно решить задачу классификации типа стекол. Данные для обучения моделей можно скачать с сайта https://www.kaggle.com/uciml/glass. Целевая переменная – тип стекла «Type». Остальные признаки описывают химические элементы в составе материала. Датасет нужно исследовать на наличие выбросов, провести EDA."
      ],
      "metadata": {
        "id": "Kgm2_SxiLPdY"
      }
    },
    {
      "cell_type": "markdown",
      "source": [
        "Этапы работы:\n",
        "1. Получите данные и загрузите их в рабочую среду (Jupyter Notebook или другую).\n",
        "2. Проведите первичный анализ.\n",
        "\n",
        "а) Проверьте количество записей для каждого класса. Сделайте вывод.\n",
        "3. Разделите выборку на обучающее и тестовое подмножество. 80% данных оставить на обучающее множество, 20% на тестовое.\n",
        "4. Обучите модель дерева решений RandomForestClassifier на обучающем множестве.\n",
        "5. Для тестового множества предскажите тип стекла и сравните с истинным значением, посчитав точность предсказания модели (accuracy).\n",
        "6. Обработайте выбросы в данных.\n",
        "\n",
        "а) Визуализируйте распределение значений для каждой переменной. Можно использовать функции sns.boxplot, sns.distplot. Есть ли признаки с нормальным распределением?\n",
        "\n",
        "b) Исследуйте признаки на выбросы несколькими способами.\n",
        "\n",
        "c) Удалите выбросы. *Посчитайте процент удаленных записей от общего числа записей для каждого класса.\n",
        "7. Повторите п. 4, п. 5.\n",
        "8. Сформулируйте выводы по проделанной работе.\n",
        "\n",
        "а) Кратко опишите, какие преобразования были сделаны с данными.\n",
        "\n",
        "b) Сравните точность двух моделей.\n",
        "\n",
        "c) Напишите свое мнение, нужно ли исследовать данные на выбросы, для чего это делается, плюсы и минусы подхода."
      ],
      "metadata": {
        "id": "9sBX-GnxLdve"
      }
    },
    {
      "cell_type": "markdown",
      "source": [
        "## Получите данные и загрузите их в рабочую среду"
      ],
      "metadata": {
        "id": "ZyQiNt6LMFAG"
      }
    },
    {
      "cell_type": "code",
      "execution_count": 125,
      "metadata": {
        "id": "LlLSw9Q6td9h"
      },
      "outputs": [],
      "source": [
        "# загрузим необходимые библиотеки\n",
        "import pandas as pd, numpy as np, matplotlib.pyplot as plt, seaborn as sns, scipy.stats as st\n",
        "from matplotlib import colors\n",
        "import matplotlib.font_manager\n",
        "%matplotlib inline\n",
        "from sklearn.linear_model import LogisticRegression, LinearRegression, Ridge, RidgeCV\n",
        "from sklearn.model_selection import train_test_split, RepeatedStratifiedKFold, GridSearchCV, cross_val_score, ShuffleSplit\n",
        "from sklearn.preprocessing import PolynomialFeatures, StandardScaler, MinMaxScaler, LabelEncoder, OneHotEncoder\n",
        "from sklearn.metrics import accuracy_score, f1_score, recall_score, precision_score, classification_report, roc_curve, auc, roc_auc_score, mean_squared_error, r2_score, make_scorer, precision_recall_curve\n",
        "from sklearn.tree import DecisionTreeClassifier, plot_tree, DecisionTreeRegressor\n",
        "from sklearn.ensemble import RandomForestRegressor, RandomForestClassifier, GradientBoostingRegressor, GradientBoostingClassifier, BaggingRegressor, BaggingClassifier, StackingRegressor, StackingClassifier, IsolationForest\n",
        "from sklearn.pipeline import make_pipeline\n",
        "from sklearn.neighbors import KNeighborsRegressor, LocalOutlierFactor\n",
        "from sklearn.covariance import EllipticEnvelope\n",
        "from sklearn.svm import LinearSVC, OneClassSVM\n",
        "from sklearn.cluster import DBSCAN\n",
        "from lightgbm import LGBMRegressor\n",
        "from xgboost import XGBRegressor\n",
        "from google.colab import files"
      ]
    },
    {
      "cell_type": "code",
      "source": [
        "! pip install -q kaggle"
      ],
      "metadata": {
        "id": "bAgQAgjv2QtQ"
      },
      "execution_count": 126,
      "outputs": []
    },
    {
      "cell_type": "code",
      "source": [
        "files.upload()"
      ],
      "metadata": {
        "colab": {
          "base_uri": "https://localhost:8080/",
          "height": 91
        },
        "id": "W5bFhjHE9Ld_",
        "outputId": "85a85e86-aee4-47f9-d8f9-63b7b21bb775"
      },
      "execution_count": null,
      "outputs": [
        {
          "output_type": "display_data",
          "data": {
            "text/plain": [
              "<IPython.core.display.HTML object>"
            ],
            "text/html": [
              "\n",
              "     <input type=\"file\" id=\"files-7e6e2fc0-c69e-4d36-9033-2d9c45a0ac64\" name=\"files[]\" multiple disabled\n",
              "        style=\"border:none\" />\n",
              "     <output id=\"result-7e6e2fc0-c69e-4d36-9033-2d9c45a0ac64\">\n",
              "      Upload widget is only available when the cell has been executed in the\n",
              "      current browser session. Please rerun this cell to enable.\n",
              "      </output>\n",
              "      <script>// Copyright 2017 Google LLC\n",
              "//\n",
              "// Licensed under the Apache License, Version 2.0 (the \"License\");\n",
              "// you may not use this file except in compliance with the License.\n",
              "// You may obtain a copy of the License at\n",
              "//\n",
              "//      http://www.apache.org/licenses/LICENSE-2.0\n",
              "//\n",
              "// Unless required by applicable law or agreed to in writing, software\n",
              "// distributed under the License is distributed on an \"AS IS\" BASIS,\n",
              "// WITHOUT WARRANTIES OR CONDITIONS OF ANY KIND, either express or implied.\n",
              "// See the License for the specific language governing permissions and\n",
              "// limitations under the License.\n",
              "\n",
              "/**\n",
              " * @fileoverview Helpers for google.colab Python module.\n",
              " */\n",
              "(function(scope) {\n",
              "function span(text, styleAttributes = {}) {\n",
              "  const element = document.createElement('span');\n",
              "  element.textContent = text;\n",
              "  for (const key of Object.keys(styleAttributes)) {\n",
              "    element.style[key] = styleAttributes[key];\n",
              "  }\n",
              "  return element;\n",
              "}\n",
              "\n",
              "// Max number of bytes which will be uploaded at a time.\n",
              "const MAX_PAYLOAD_SIZE = 100 * 1024;\n",
              "\n",
              "function _uploadFiles(inputId, outputId) {\n",
              "  const steps = uploadFilesStep(inputId, outputId);\n",
              "  const outputElement = document.getElementById(outputId);\n",
              "  // Cache steps on the outputElement to make it available for the next call\n",
              "  // to uploadFilesContinue from Python.\n",
              "  outputElement.steps = steps;\n",
              "\n",
              "  return _uploadFilesContinue(outputId);\n",
              "}\n",
              "\n",
              "// This is roughly an async generator (not supported in the browser yet),\n",
              "// where there are multiple asynchronous steps and the Python side is going\n",
              "// to poll for completion of each step.\n",
              "// This uses a Promise to block the python side on completion of each step,\n",
              "// then passes the result of the previous step as the input to the next step.\n",
              "function _uploadFilesContinue(outputId) {\n",
              "  const outputElement = document.getElementById(outputId);\n",
              "  const steps = outputElement.steps;\n",
              "\n",
              "  const next = steps.next(outputElement.lastPromiseValue);\n",
              "  return Promise.resolve(next.value.promise).then((value) => {\n",
              "    // Cache the last promise value to make it available to the next\n",
              "    // step of the generator.\n",
              "    outputElement.lastPromiseValue = value;\n",
              "    return next.value.response;\n",
              "  });\n",
              "}\n",
              "\n",
              "/**\n",
              " * Generator function which is called between each async step of the upload\n",
              " * process.\n",
              " * @param {string} inputId Element ID of the input file picker element.\n",
              " * @param {string} outputId Element ID of the output display.\n",
              " * @return {!Iterable<!Object>} Iterable of next steps.\n",
              " */\n",
              "function* uploadFilesStep(inputId, outputId) {\n",
              "  const inputElement = document.getElementById(inputId);\n",
              "  inputElement.disabled = false;\n",
              "\n",
              "  const outputElement = document.getElementById(outputId);\n",
              "  outputElement.innerHTML = '';\n",
              "\n",
              "  const pickedPromise = new Promise((resolve) => {\n",
              "    inputElement.addEventListener('change', (e) => {\n",
              "      resolve(e.target.files);\n",
              "    });\n",
              "  });\n",
              "\n",
              "  const cancel = document.createElement('button');\n",
              "  inputElement.parentElement.appendChild(cancel);\n",
              "  cancel.textContent = 'Cancel upload';\n",
              "  const cancelPromise = new Promise((resolve) => {\n",
              "    cancel.onclick = () => {\n",
              "      resolve(null);\n",
              "    };\n",
              "  });\n",
              "\n",
              "  // Wait for the user to pick the files.\n",
              "  const files = yield {\n",
              "    promise: Promise.race([pickedPromise, cancelPromise]),\n",
              "    response: {\n",
              "      action: 'starting',\n",
              "    }\n",
              "  };\n",
              "\n",
              "  cancel.remove();\n",
              "\n",
              "  // Disable the input element since further picks are not allowed.\n",
              "  inputElement.disabled = true;\n",
              "\n",
              "  if (!files) {\n",
              "    return {\n",
              "      response: {\n",
              "        action: 'complete',\n",
              "      }\n",
              "    };\n",
              "  }\n",
              "\n",
              "  for (const file of files) {\n",
              "    const li = document.createElement('li');\n",
              "    li.append(span(file.name, {fontWeight: 'bold'}));\n",
              "    li.append(span(\n",
              "        `(${file.type || 'n/a'}) - ${file.size} bytes, ` +\n",
              "        `last modified: ${\n",
              "            file.lastModifiedDate ? file.lastModifiedDate.toLocaleDateString() :\n",
              "                                    'n/a'} - `));\n",
              "    const percent = span('0% done');\n",
              "    li.appendChild(percent);\n",
              "\n",
              "    outputElement.appendChild(li);\n",
              "\n",
              "    const fileDataPromise = new Promise((resolve) => {\n",
              "      const reader = new FileReader();\n",
              "      reader.onload = (e) => {\n",
              "        resolve(e.target.result);\n",
              "      };\n",
              "      reader.readAsArrayBuffer(file);\n",
              "    });\n",
              "    // Wait for the data to be ready.\n",
              "    let fileData = yield {\n",
              "      promise: fileDataPromise,\n",
              "      response: {\n",
              "        action: 'continue',\n",
              "      }\n",
              "    };\n",
              "\n",
              "    // Use a chunked sending to avoid message size limits. See b/62115660.\n",
              "    let position = 0;\n",
              "    do {\n",
              "      const length = Math.min(fileData.byteLength - position, MAX_PAYLOAD_SIZE);\n",
              "      const chunk = new Uint8Array(fileData, position, length);\n",
              "      position += length;\n",
              "\n",
              "      const base64 = btoa(String.fromCharCode.apply(null, chunk));\n",
              "      yield {\n",
              "        response: {\n",
              "          action: 'append',\n",
              "          file: file.name,\n",
              "          data: base64,\n",
              "        },\n",
              "      };\n",
              "\n",
              "      let percentDone = fileData.byteLength === 0 ?\n",
              "          100 :\n",
              "          Math.round((position / fileData.byteLength) * 100);\n",
              "      percent.textContent = `${percentDone}% done`;\n",
              "\n",
              "    } while (position < fileData.byteLength);\n",
              "  }\n",
              "\n",
              "  // All done.\n",
              "  yield {\n",
              "    response: {\n",
              "      action: 'complete',\n",
              "    }\n",
              "  };\n",
              "}\n",
              "\n",
              "scope.google = scope.google || {};\n",
              "scope.google.colab = scope.google.colab || {};\n",
              "scope.google.colab._files = {\n",
              "  _uploadFiles,\n",
              "  _uploadFilesContinue,\n",
              "};\n",
              "})(self);\n",
              "</script> "
            ]
          },
          "metadata": {}
        },
        {
          "output_type": "stream",
          "name": "stdout",
          "text": [
            "Saving kaggle.json to kaggle.json\n"
          ]
        },
        {
          "output_type": "execute_result",
          "data": {
            "text/plain": [
              "{'kaggle.json': b'{\"username\":\"ivankatorgin\",\"key\":\"d444d549b2d6da9f7419ddd8dcb00354\"}'}"
            ]
          },
          "metadata": {},
          "execution_count": 4
        }
      ]
    },
    {
      "cell_type": "code",
      "source": [
        "! mkdir ~/.kaggle"
      ],
      "metadata": {
        "id": "e2O1RTSB2rjw"
      },
      "execution_count": null,
      "outputs": []
    },
    {
      "cell_type": "code",
      "source": [
        "! cp kaggle.json ~/.kaggle/"
      ],
      "metadata": {
        "id": "YOESVh5f2tBY"
      },
      "execution_count": null,
      "outputs": []
    },
    {
      "cell_type": "code",
      "source": [
        "! chmod 600 ~/.kaggle/kaggle.json"
      ],
      "metadata": {
        "id": "3Rbspl8F2xr0"
      },
      "execution_count": null,
      "outputs": []
    },
    {
      "cell_type": "code",
      "source": [
        "! kaggle datasets list"
      ],
      "metadata": {
        "colab": {
          "base_uri": "https://localhost:8080/"
        },
        "id": "6XcsP4-t3Khx",
        "outputId": "166fcb82-9477-417d-8406-8258d3857202"
      },
      "execution_count": null,
      "outputs": [
        {
          "output_type": "stream",
          "name": "stdout",
          "text": [
            "ref                                                          title                                                size  lastUpdated          downloadCount  voteCount  usabilityRating  \n",
            "-----------------------------------------------------------  --------------------------------------------------  -----  -------------------  -------------  ---------  ---------------  \n",
            "valakhorasani/mobile-device-usage-and-user-behavior-dataset  Mobile Device Usage and User Behavior Dataset        11KB  2024-09-28 20:21:12          13891        304  1.0              \n",
            "valakhorasani/gym-members-exercise-dataset                   Gym Members Exercise Dataset                         22KB  2024-10-06 11:27:38           7295        116  1.0              \n",
            "yusufdelikkaya/datascience-salaries-2024                     Data Science Salaries 2024                           69KB  2024-10-23 18:39:50           1091         28  0.88235295       \n",
            "lainguyn123/student-performance-factors                      Student Performance Factors                          94KB  2024-09-02 10:53:57          42542        730  1.0              \n",
            "octopusteam/imdb-top-1000-tv-series                          IMDb Top 1000 TV Series                              23KB  2024-10-25 08:00:06           1303         28  1.0              \n",
            "bhadramohit/credit-card-fraud-detection                      Credit Card Fraud Detection                           2MB  2024-10-21 09:26:17           1300         25  1.0              \n",
            "iamavyukt/goibibo-flight-data                                Goibibo Flight Data                                   2MB  2024-10-17 14:42:37           1150         24  1.0              \n",
            "hasibur013/diabetes-dataset                                  Diabetes Dataset                                      9KB  2024-10-22 02:10:36           1360         35  1.0              \n",
            "ankulsharma150/netflix-data-analysis                         Netflix Data Analysis                                 1MB  2024-10-15 08:02:26           2923         39  1.0              \n",
            "arsalanjamal002/student-sleep-patterns                       Student Sleep Patterns                               11KB  2024-10-14 06:47:21           2966         38  0.7647059        \n",
            "willianoliveiragibin/imports-exports-v23                     Imports_Exports V23                                 863KB  2024-10-12 18:11:46           1168         26  1.0              \n",
            "satvshr/top-4-used-car-sales-datasets-combined               Top 4 Used Car Sales Datasets Combined              446KB  2024-10-21 13:20:56           1867         31  0.9411765        \n",
            "arslaan5/explore-car-performance-fuel-efficiency-data        Explore Car Performance: Fuel Efficiency Data         5KB  2024-10-17 16:35:59           1331         29  1.0              \n",
            "waqi786/remote-work-and-mental-health                        Remote Work & Mental Health 🌍🧠                       93KB  2024-09-22 11:44:29           8633        113  1.0              \n",
            "ziya07/forest-health-and-ecological-diversity                Forest Health and Ecological Diversity              313KB  2024-10-25 10:16:24            578         25  0.9411765        \n",
            "fundal/students-annual-score-in-history-geography-subject    Students Annual Score in History Geography subject    8KB  2024-10-05 15:52:50            881         22  1.0              \n",
            "mexwell/google-merchandise-sales-data                        👕 Google Merchandise Sales Data                       5MB  2024-10-16 08:44:05           1687         24  1.0              \n",
            "ziya07/community-health-evaluation-dataset                   community-health-evaluation-dataset                   6KB  2024-10-04 11:41:36            839         22  0.9411765        \n",
            "aravinii/house-price-prediction-treated-dataset              House Price Prediction Treated Dataset              279KB  2024-10-22 01:17:46           2060         30  1.0              \n",
            "shriyashjagtap/indian-personal-finance-and-spending-habits   Indian Personal Finance and Spending Habits           4MB  2024-10-07 22:19:31            826         23  1.0              \n"
          ]
        }
      ]
    },
    {
      "cell_type": "code",
      "source": [
        "! kaggle datasets download uciml/glass"
      ],
      "metadata": {
        "colab": {
          "base_uri": "https://localhost:8080/"
        },
        "id": "I862SJSH3ZWN",
        "outputId": "54c2bb37-f169-431c-be31-f8ef77d9212a"
      },
      "execution_count": 127,
      "outputs": [
        {
          "output_type": "stream",
          "name": "stdout",
          "text": [
            "Dataset URL: https://www.kaggle.com/datasets/uciml/glass\n",
            "License(s): DbCL-1.0\n",
            "glass.zip: Skipping, found more recently modified local copy (use --force to force download)\n"
          ]
        }
      ]
    },
    {
      "cell_type": "code",
      "source": [
        "# проверка\n",
        "! unzip -l glass.zip"
      ],
      "metadata": {
        "colab": {
          "base_uri": "https://localhost:8080/"
        },
        "id": "YUbFpX1L3k6m",
        "outputId": "ae84235f-5a3e-4bf4-9b09-467d7ebd4b4f"
      },
      "execution_count": 128,
      "outputs": [
        {
          "output_type": "stream",
          "name": "stdout",
          "text": [
            "Archive:  glass.zip\n",
            "  Length      Date    Time    Name\n",
            "---------  ---------- -----   ----\n",
            "    10053  2019-09-20 06:54   glass.csv\n",
            "---------                     -------\n",
            "    10053                     1 file\n"
          ]
        }
      ]
    },
    {
      "cell_type": "code",
      "source": [
        "# загрузка\n",
        "! unzip glass.zip"
      ],
      "metadata": {
        "colab": {
          "base_uri": "https://localhost:8080/"
        },
        "id": "kny8IrRGDlxH",
        "outputId": "0263a298-499c-4622-b8bf-72ee1b00a554"
      },
      "execution_count": 129,
      "outputs": [
        {
          "output_type": "stream",
          "name": "stdout",
          "text": [
            "Archive:  glass.zip\n",
            "replace glass.csv? [y]es, [n]o, [A]ll, [N]one, [r]ename: y\n",
            "  inflating: glass.csv               \n"
          ]
        }
      ]
    },
    {
      "cell_type": "code",
      "source": [
        "# прочитаем данные\n",
        "df = pd.read_csv('glass.csv', sep=',', encoding='utf-8')\n",
        "df.head()"
      ],
      "metadata": {
        "colab": {
          "base_uri": "https://localhost:8080/",
          "height": 206
        },
        "id": "8otM_b1MDqHN",
        "outputId": "d1245ad5-0de0-42e3-f616-7aaa7cbbb390"
      },
      "execution_count": 130,
      "outputs": [
        {
          "output_type": "execute_result",
          "data": {
            "text/plain": [
              "        RI     Na    Mg    Al     Si     K    Ca   Ba   Fe  Type\n",
              "0  1.52101  13.64  4.49  1.10  71.78  0.06  8.75  0.0  0.0     1\n",
              "1  1.51761  13.89  3.60  1.36  72.73  0.48  7.83  0.0  0.0     1\n",
              "2  1.51618  13.53  3.55  1.54  72.99  0.39  7.78  0.0  0.0     1\n",
              "3  1.51766  13.21  3.69  1.29  72.61  0.57  8.22  0.0  0.0     1\n",
              "4  1.51742  13.27  3.62  1.24  73.08  0.55  8.07  0.0  0.0     1"
            ],
            "text/html": [
              "\n",
              "  <div id=\"df-9f3a8bbc-d334-4622-abdb-d88f591013c8\" class=\"colab-df-container\">\n",
              "    <div>\n",
              "<style scoped>\n",
              "    .dataframe tbody tr th:only-of-type {\n",
              "        vertical-align: middle;\n",
              "    }\n",
              "\n",
              "    .dataframe tbody tr th {\n",
              "        vertical-align: top;\n",
              "    }\n",
              "\n",
              "    .dataframe thead th {\n",
              "        text-align: right;\n",
              "    }\n",
              "</style>\n",
              "<table border=\"1\" class=\"dataframe\">\n",
              "  <thead>\n",
              "    <tr style=\"text-align: right;\">\n",
              "      <th></th>\n",
              "      <th>RI</th>\n",
              "      <th>Na</th>\n",
              "      <th>Mg</th>\n",
              "      <th>Al</th>\n",
              "      <th>Si</th>\n",
              "      <th>K</th>\n",
              "      <th>Ca</th>\n",
              "      <th>Ba</th>\n",
              "      <th>Fe</th>\n",
              "      <th>Type</th>\n",
              "    </tr>\n",
              "  </thead>\n",
              "  <tbody>\n",
              "    <tr>\n",
              "      <th>0</th>\n",
              "      <td>1.52101</td>\n",
              "      <td>13.64</td>\n",
              "      <td>4.49</td>\n",
              "      <td>1.10</td>\n",
              "      <td>71.78</td>\n",
              "      <td>0.06</td>\n",
              "      <td>8.75</td>\n",
              "      <td>0.0</td>\n",
              "      <td>0.0</td>\n",
              "      <td>1</td>\n",
              "    </tr>\n",
              "    <tr>\n",
              "      <th>1</th>\n",
              "      <td>1.51761</td>\n",
              "      <td>13.89</td>\n",
              "      <td>3.60</td>\n",
              "      <td>1.36</td>\n",
              "      <td>72.73</td>\n",
              "      <td>0.48</td>\n",
              "      <td>7.83</td>\n",
              "      <td>0.0</td>\n",
              "      <td>0.0</td>\n",
              "      <td>1</td>\n",
              "    </tr>\n",
              "    <tr>\n",
              "      <th>2</th>\n",
              "      <td>1.51618</td>\n",
              "      <td>13.53</td>\n",
              "      <td>3.55</td>\n",
              "      <td>1.54</td>\n",
              "      <td>72.99</td>\n",
              "      <td>0.39</td>\n",
              "      <td>7.78</td>\n",
              "      <td>0.0</td>\n",
              "      <td>0.0</td>\n",
              "      <td>1</td>\n",
              "    </tr>\n",
              "    <tr>\n",
              "      <th>3</th>\n",
              "      <td>1.51766</td>\n",
              "      <td>13.21</td>\n",
              "      <td>3.69</td>\n",
              "      <td>1.29</td>\n",
              "      <td>72.61</td>\n",
              "      <td>0.57</td>\n",
              "      <td>8.22</td>\n",
              "      <td>0.0</td>\n",
              "      <td>0.0</td>\n",
              "      <td>1</td>\n",
              "    </tr>\n",
              "    <tr>\n",
              "      <th>4</th>\n",
              "      <td>1.51742</td>\n",
              "      <td>13.27</td>\n",
              "      <td>3.62</td>\n",
              "      <td>1.24</td>\n",
              "      <td>73.08</td>\n",
              "      <td>0.55</td>\n",
              "      <td>8.07</td>\n",
              "      <td>0.0</td>\n",
              "      <td>0.0</td>\n",
              "      <td>1</td>\n",
              "    </tr>\n",
              "  </tbody>\n",
              "</table>\n",
              "</div>\n",
              "    <div class=\"colab-df-buttons\">\n",
              "\n",
              "  <div class=\"colab-df-container\">\n",
              "    <button class=\"colab-df-convert\" onclick=\"convertToInteractive('df-9f3a8bbc-d334-4622-abdb-d88f591013c8')\"\n",
              "            title=\"Convert this dataframe to an interactive table.\"\n",
              "            style=\"display:none;\">\n",
              "\n",
              "  <svg xmlns=\"http://www.w3.org/2000/svg\" height=\"24px\" viewBox=\"0 -960 960 960\">\n",
              "    <path d=\"M120-120v-720h720v720H120Zm60-500h600v-160H180v160Zm220 220h160v-160H400v160Zm0 220h160v-160H400v160ZM180-400h160v-160H180v160Zm440 0h160v-160H620v160ZM180-180h160v-160H180v160Zm440 0h160v-160H620v160Z\"/>\n",
              "  </svg>\n",
              "    </button>\n",
              "\n",
              "  <style>\n",
              "    .colab-df-container {\n",
              "      display:flex;\n",
              "      gap: 12px;\n",
              "    }\n",
              "\n",
              "    .colab-df-convert {\n",
              "      background-color: #E8F0FE;\n",
              "      border: none;\n",
              "      border-radius: 50%;\n",
              "      cursor: pointer;\n",
              "      display: none;\n",
              "      fill: #1967D2;\n",
              "      height: 32px;\n",
              "      padding: 0 0 0 0;\n",
              "      width: 32px;\n",
              "    }\n",
              "\n",
              "    .colab-df-convert:hover {\n",
              "      background-color: #E2EBFA;\n",
              "      box-shadow: 0px 1px 2px rgba(60, 64, 67, 0.3), 0px 1px 3px 1px rgba(60, 64, 67, 0.15);\n",
              "      fill: #174EA6;\n",
              "    }\n",
              "\n",
              "    .colab-df-buttons div {\n",
              "      margin-bottom: 4px;\n",
              "    }\n",
              "\n",
              "    [theme=dark] .colab-df-convert {\n",
              "      background-color: #3B4455;\n",
              "      fill: #D2E3FC;\n",
              "    }\n",
              "\n",
              "    [theme=dark] .colab-df-convert:hover {\n",
              "      background-color: #434B5C;\n",
              "      box-shadow: 0px 1px 3px 1px rgba(0, 0, 0, 0.15);\n",
              "      filter: drop-shadow(0px 1px 2px rgba(0, 0, 0, 0.3));\n",
              "      fill: #FFFFFF;\n",
              "    }\n",
              "  </style>\n",
              "\n",
              "    <script>\n",
              "      const buttonEl =\n",
              "        document.querySelector('#df-9f3a8bbc-d334-4622-abdb-d88f591013c8 button.colab-df-convert');\n",
              "      buttonEl.style.display =\n",
              "        google.colab.kernel.accessAllowed ? 'block' : 'none';\n",
              "\n",
              "      async function convertToInteractive(key) {\n",
              "        const element = document.querySelector('#df-9f3a8bbc-d334-4622-abdb-d88f591013c8');\n",
              "        const dataTable =\n",
              "          await google.colab.kernel.invokeFunction('convertToInteractive',\n",
              "                                                    [key], {});\n",
              "        if (!dataTable) return;\n",
              "\n",
              "        const docLinkHtml = 'Like what you see? Visit the ' +\n",
              "          '<a target=\"_blank\" href=https://colab.research.google.com/notebooks/data_table.ipynb>data table notebook</a>'\n",
              "          + ' to learn more about interactive tables.';\n",
              "        element.innerHTML = '';\n",
              "        dataTable['output_type'] = 'display_data';\n",
              "        await google.colab.output.renderOutput(dataTable, element);\n",
              "        const docLink = document.createElement('div');\n",
              "        docLink.innerHTML = docLinkHtml;\n",
              "        element.appendChild(docLink);\n",
              "      }\n",
              "    </script>\n",
              "  </div>\n",
              "\n",
              "\n",
              "<div id=\"df-ef70a2ea-2e0c-4a1f-ae95-0b4c6a3c63f4\">\n",
              "  <button class=\"colab-df-quickchart\" onclick=\"quickchart('df-ef70a2ea-2e0c-4a1f-ae95-0b4c6a3c63f4')\"\n",
              "            title=\"Suggest charts\"\n",
              "            style=\"display:none;\">\n",
              "\n",
              "<svg xmlns=\"http://www.w3.org/2000/svg\" height=\"24px\"viewBox=\"0 0 24 24\"\n",
              "     width=\"24px\">\n",
              "    <g>\n",
              "        <path d=\"M19 3H5c-1.1 0-2 .9-2 2v14c0 1.1.9 2 2 2h14c1.1 0 2-.9 2-2V5c0-1.1-.9-2-2-2zM9 17H7v-7h2v7zm4 0h-2V7h2v10zm4 0h-2v-4h2v4z\"/>\n",
              "    </g>\n",
              "</svg>\n",
              "  </button>\n",
              "\n",
              "<style>\n",
              "  .colab-df-quickchart {\n",
              "      --bg-color: #E8F0FE;\n",
              "      --fill-color: #1967D2;\n",
              "      --hover-bg-color: #E2EBFA;\n",
              "      --hover-fill-color: #174EA6;\n",
              "      --disabled-fill-color: #AAA;\n",
              "      --disabled-bg-color: #DDD;\n",
              "  }\n",
              "\n",
              "  [theme=dark] .colab-df-quickchart {\n",
              "      --bg-color: #3B4455;\n",
              "      --fill-color: #D2E3FC;\n",
              "      --hover-bg-color: #434B5C;\n",
              "      --hover-fill-color: #FFFFFF;\n",
              "      --disabled-bg-color: #3B4455;\n",
              "      --disabled-fill-color: #666;\n",
              "  }\n",
              "\n",
              "  .colab-df-quickchart {\n",
              "    background-color: var(--bg-color);\n",
              "    border: none;\n",
              "    border-radius: 50%;\n",
              "    cursor: pointer;\n",
              "    display: none;\n",
              "    fill: var(--fill-color);\n",
              "    height: 32px;\n",
              "    padding: 0;\n",
              "    width: 32px;\n",
              "  }\n",
              "\n",
              "  .colab-df-quickchart:hover {\n",
              "    background-color: var(--hover-bg-color);\n",
              "    box-shadow: 0 1px 2px rgba(60, 64, 67, 0.3), 0 1px 3px 1px rgba(60, 64, 67, 0.15);\n",
              "    fill: var(--button-hover-fill-color);\n",
              "  }\n",
              "\n",
              "  .colab-df-quickchart-complete:disabled,\n",
              "  .colab-df-quickchart-complete:disabled:hover {\n",
              "    background-color: var(--disabled-bg-color);\n",
              "    fill: var(--disabled-fill-color);\n",
              "    box-shadow: none;\n",
              "  }\n",
              "\n",
              "  .colab-df-spinner {\n",
              "    border: 2px solid var(--fill-color);\n",
              "    border-color: transparent;\n",
              "    border-bottom-color: var(--fill-color);\n",
              "    animation:\n",
              "      spin 1s steps(1) infinite;\n",
              "  }\n",
              "\n",
              "  @keyframes spin {\n",
              "    0% {\n",
              "      border-color: transparent;\n",
              "      border-bottom-color: var(--fill-color);\n",
              "      border-left-color: var(--fill-color);\n",
              "    }\n",
              "    20% {\n",
              "      border-color: transparent;\n",
              "      border-left-color: var(--fill-color);\n",
              "      border-top-color: var(--fill-color);\n",
              "    }\n",
              "    30% {\n",
              "      border-color: transparent;\n",
              "      border-left-color: var(--fill-color);\n",
              "      border-top-color: var(--fill-color);\n",
              "      border-right-color: var(--fill-color);\n",
              "    }\n",
              "    40% {\n",
              "      border-color: transparent;\n",
              "      border-right-color: var(--fill-color);\n",
              "      border-top-color: var(--fill-color);\n",
              "    }\n",
              "    60% {\n",
              "      border-color: transparent;\n",
              "      border-right-color: var(--fill-color);\n",
              "    }\n",
              "    80% {\n",
              "      border-color: transparent;\n",
              "      border-right-color: var(--fill-color);\n",
              "      border-bottom-color: var(--fill-color);\n",
              "    }\n",
              "    90% {\n",
              "      border-color: transparent;\n",
              "      border-bottom-color: var(--fill-color);\n",
              "    }\n",
              "  }\n",
              "</style>\n",
              "\n",
              "  <script>\n",
              "    async function quickchart(key) {\n",
              "      const quickchartButtonEl =\n",
              "        document.querySelector('#' + key + ' button');\n",
              "      quickchartButtonEl.disabled = true;  // To prevent multiple clicks.\n",
              "      quickchartButtonEl.classList.add('colab-df-spinner');\n",
              "      try {\n",
              "        const charts = await google.colab.kernel.invokeFunction(\n",
              "            'suggestCharts', [key], {});\n",
              "      } catch (error) {\n",
              "        console.error('Error during call to suggestCharts:', error);\n",
              "      }\n",
              "      quickchartButtonEl.classList.remove('colab-df-spinner');\n",
              "      quickchartButtonEl.classList.add('colab-df-quickchart-complete');\n",
              "    }\n",
              "    (() => {\n",
              "      let quickchartButtonEl =\n",
              "        document.querySelector('#df-ef70a2ea-2e0c-4a1f-ae95-0b4c6a3c63f4 button');\n",
              "      quickchartButtonEl.style.display =\n",
              "        google.colab.kernel.accessAllowed ? 'block' : 'none';\n",
              "    })();\n",
              "  </script>\n",
              "</div>\n",
              "    </div>\n",
              "  </div>\n"
            ],
            "application/vnd.google.colaboratory.intrinsic+json": {
              "type": "dataframe",
              "variable_name": "df",
              "summary": "{\n  \"name\": \"df\",\n  \"rows\": 214,\n  \"fields\": [\n    {\n      \"column\": \"RI\",\n      \"properties\": {\n        \"dtype\": \"number\",\n        \"std\": 0.0030368637393854334,\n        \"min\": 1.51115,\n        \"max\": 1.53393,\n        \"num_unique_values\": 178,\n        \"samples\": [\n          1.51966,\n          1.51808,\n          1.51969\n        ],\n        \"semantic_type\": \"\",\n        \"description\": \"\"\n      }\n    },\n    {\n      \"column\": \"Na\",\n      \"properties\": {\n        \"dtype\": \"number\",\n        \"std\": 0.8166035557149829,\n        \"min\": 10.73,\n        \"max\": 17.38,\n        \"num_unique_values\": 142,\n        \"samples\": [\n          14.38,\n          13.02,\n          13.83\n        ],\n        \"semantic_type\": \"\",\n        \"description\": \"\"\n      }\n    },\n    {\n      \"column\": \"Mg\",\n      \"properties\": {\n        \"dtype\": \"number\",\n        \"std\": 1.4424078448704414,\n        \"min\": 0.0,\n        \"max\": 4.49,\n        \"num_unique_values\": 94,\n        \"samples\": [\n          3.86,\n          3.47,\n          2.9\n        ],\n        \"semantic_type\": \"\",\n        \"description\": \"\"\n      }\n    },\n    {\n      \"column\": \"Al\",\n      \"properties\": {\n        \"dtype\": \"number\",\n        \"std\": 0.49926964560048454,\n        \"min\": 0.29,\n        \"max\": 3.5,\n        \"num_unique_values\": 118,\n        \"samples\": [\n          1.48,\n          1.65,\n          1.24\n        ],\n        \"semantic_type\": \"\",\n        \"description\": \"\"\n      }\n    },\n    {\n      \"column\": \"Si\",\n      \"properties\": {\n        \"dtype\": \"number\",\n        \"std\": 0.7745457947651124,\n        \"min\": 69.81,\n        \"max\": 75.41,\n        \"num_unique_values\": 133,\n        \"samples\": [\n          72.22,\n          73.06,\n          71.81\n        ],\n        \"semantic_type\": \"\",\n        \"description\": \"\"\n      }\n    },\n    {\n      \"column\": \"K\",\n      \"properties\": {\n        \"dtype\": \"number\",\n        \"std\": 0.6521918455589802,\n        \"min\": 0.0,\n        \"max\": 6.21,\n        \"num_unique_values\": 65,\n        \"samples\": [\n          0.47,\n          0.31,\n          0.06\n        ],\n        \"semantic_type\": \"\",\n        \"description\": \"\"\n      }\n    },\n    {\n      \"column\": \"Ca\",\n      \"properties\": {\n        \"dtype\": \"number\",\n        \"std\": 1.4231534872813945,\n        \"min\": 5.43,\n        \"max\": 16.19,\n        \"num_unique_values\": 143,\n        \"samples\": [\n          12.5,\n          8.52,\n          11.52\n        ],\n        \"semantic_type\": \"\",\n        \"description\": \"\"\n      }\n    },\n    {\n      \"column\": \"Ba\",\n      \"properties\": {\n        \"dtype\": \"number\",\n        \"std\": 0.4972192605997036,\n        \"min\": 0.0,\n        \"max\": 3.15,\n        \"num_unique_values\": 34,\n        \"samples\": [\n          0.64,\n          0.61,\n          1.55\n        ],\n        \"semantic_type\": \"\",\n        \"description\": \"\"\n      }\n    },\n    {\n      \"column\": \"Fe\",\n      \"properties\": {\n        \"dtype\": \"number\",\n        \"std\": 0.09743870063650086,\n        \"min\": 0.0,\n        \"max\": 0.51,\n        \"num_unique_values\": 32,\n        \"samples\": [\n          0.51,\n          0.03,\n          0.21\n        ],\n        \"semantic_type\": \"\",\n        \"description\": \"\"\n      }\n    },\n    {\n      \"column\": \"Type\",\n      \"properties\": {\n        \"dtype\": \"number\",\n        \"std\": 2,\n        \"min\": 1,\n        \"max\": 7,\n        \"num_unique_values\": 6,\n        \"samples\": [\n          1,\n          2,\n          7\n        ],\n        \"semantic_type\": \"\",\n        \"description\": \"\"\n      }\n    }\n  ]\n}"
            }
          },
          "metadata": {},
          "execution_count": 130
        }
      ]
    },
    {
      "cell_type": "markdown",
      "source": [
        "## Проведите первичный анализ"
      ],
      "metadata": {
        "id": "4aucWJrLMI_8"
      }
    },
    {
      "cell_type": "code",
      "source": [
        "df.shape"
      ],
      "metadata": {
        "id": "BBFNZZkeMELE",
        "colab": {
          "base_uri": "https://localhost:8080/"
        },
        "outputId": "9ddcb293-ad70-4afb-c51c-e8ec07f4a526"
      },
      "execution_count": 131,
      "outputs": [
        {
          "output_type": "execute_result",
          "data": {
            "text/plain": [
              "(214, 10)"
            ]
          },
          "metadata": {},
          "execution_count": 131
        }
      ]
    },
    {
      "cell_type": "code",
      "source": [
        "df.info()"
      ],
      "metadata": {
        "colab": {
          "base_uri": "https://localhost:8080/"
        },
        "id": "pxOGNU_VNzFm",
        "outputId": "a3117c59-6da4-4c05-a4e2-b4dd9cdf46e0"
      },
      "execution_count": 132,
      "outputs": [
        {
          "output_type": "stream",
          "name": "stdout",
          "text": [
            "<class 'pandas.core.frame.DataFrame'>\n",
            "RangeIndex: 214 entries, 0 to 213\n",
            "Data columns (total 10 columns):\n",
            " #   Column  Non-Null Count  Dtype  \n",
            "---  ------  --------------  -----  \n",
            " 0   RI      214 non-null    float64\n",
            " 1   Na      214 non-null    float64\n",
            " 2   Mg      214 non-null    float64\n",
            " 3   Al      214 non-null    float64\n",
            " 4   Si      214 non-null    float64\n",
            " 5   K       214 non-null    float64\n",
            " 6   Ca      214 non-null    float64\n",
            " 7   Ba      214 non-null    float64\n",
            " 8   Fe      214 non-null    float64\n",
            " 9   Type    214 non-null    int64  \n",
            "dtypes: float64(9), int64(1)\n",
            "memory usage: 16.8 KB\n"
          ]
        }
      ]
    },
    {
      "cell_type": "code",
      "source": [
        "df.describe()"
      ],
      "metadata": {
        "colab": {
          "base_uri": "https://localhost:8080/",
          "height": 300
        },
        "id": "BMK3FBITN2Hs",
        "outputId": "915cba4c-68de-4e83-e471-5e5670261d10"
      },
      "execution_count": 133,
      "outputs": [
        {
          "output_type": "execute_result",
          "data": {
            "text/plain": [
              "               RI          Na          Mg          Al          Si           K  \\\n",
              "count  214.000000  214.000000  214.000000  214.000000  214.000000  214.000000   \n",
              "mean     1.518365   13.407850    2.684533    1.444907   72.650935    0.497056   \n",
              "std      0.003037    0.816604    1.442408    0.499270    0.774546    0.652192   \n",
              "min      1.511150   10.730000    0.000000    0.290000   69.810000    0.000000   \n",
              "25%      1.516522   12.907500    2.115000    1.190000   72.280000    0.122500   \n",
              "50%      1.517680   13.300000    3.480000    1.360000   72.790000    0.555000   \n",
              "75%      1.519157   13.825000    3.600000    1.630000   73.087500    0.610000   \n",
              "max      1.533930   17.380000    4.490000    3.500000   75.410000    6.210000   \n",
              "\n",
              "               Ca          Ba          Fe        Type  \n",
              "count  214.000000  214.000000  214.000000  214.000000  \n",
              "mean     8.956963    0.175047    0.057009    2.780374  \n",
              "std      1.423153    0.497219    0.097439    2.103739  \n",
              "min      5.430000    0.000000    0.000000    1.000000  \n",
              "25%      8.240000    0.000000    0.000000    1.000000  \n",
              "50%      8.600000    0.000000    0.000000    2.000000  \n",
              "75%      9.172500    0.000000    0.100000    3.000000  \n",
              "max     16.190000    3.150000    0.510000    7.000000  "
            ],
            "text/html": [
              "\n",
              "  <div id=\"df-5e801864-0809-4bab-a7f9-68448e65083b\" class=\"colab-df-container\">\n",
              "    <div>\n",
              "<style scoped>\n",
              "    .dataframe tbody tr th:only-of-type {\n",
              "        vertical-align: middle;\n",
              "    }\n",
              "\n",
              "    .dataframe tbody tr th {\n",
              "        vertical-align: top;\n",
              "    }\n",
              "\n",
              "    .dataframe thead th {\n",
              "        text-align: right;\n",
              "    }\n",
              "</style>\n",
              "<table border=\"1\" class=\"dataframe\">\n",
              "  <thead>\n",
              "    <tr style=\"text-align: right;\">\n",
              "      <th></th>\n",
              "      <th>RI</th>\n",
              "      <th>Na</th>\n",
              "      <th>Mg</th>\n",
              "      <th>Al</th>\n",
              "      <th>Si</th>\n",
              "      <th>K</th>\n",
              "      <th>Ca</th>\n",
              "      <th>Ba</th>\n",
              "      <th>Fe</th>\n",
              "      <th>Type</th>\n",
              "    </tr>\n",
              "  </thead>\n",
              "  <tbody>\n",
              "    <tr>\n",
              "      <th>count</th>\n",
              "      <td>214.000000</td>\n",
              "      <td>214.000000</td>\n",
              "      <td>214.000000</td>\n",
              "      <td>214.000000</td>\n",
              "      <td>214.000000</td>\n",
              "      <td>214.000000</td>\n",
              "      <td>214.000000</td>\n",
              "      <td>214.000000</td>\n",
              "      <td>214.000000</td>\n",
              "      <td>214.000000</td>\n",
              "    </tr>\n",
              "    <tr>\n",
              "      <th>mean</th>\n",
              "      <td>1.518365</td>\n",
              "      <td>13.407850</td>\n",
              "      <td>2.684533</td>\n",
              "      <td>1.444907</td>\n",
              "      <td>72.650935</td>\n",
              "      <td>0.497056</td>\n",
              "      <td>8.956963</td>\n",
              "      <td>0.175047</td>\n",
              "      <td>0.057009</td>\n",
              "      <td>2.780374</td>\n",
              "    </tr>\n",
              "    <tr>\n",
              "      <th>std</th>\n",
              "      <td>0.003037</td>\n",
              "      <td>0.816604</td>\n",
              "      <td>1.442408</td>\n",
              "      <td>0.499270</td>\n",
              "      <td>0.774546</td>\n",
              "      <td>0.652192</td>\n",
              "      <td>1.423153</td>\n",
              "      <td>0.497219</td>\n",
              "      <td>0.097439</td>\n",
              "      <td>2.103739</td>\n",
              "    </tr>\n",
              "    <tr>\n",
              "      <th>min</th>\n",
              "      <td>1.511150</td>\n",
              "      <td>10.730000</td>\n",
              "      <td>0.000000</td>\n",
              "      <td>0.290000</td>\n",
              "      <td>69.810000</td>\n",
              "      <td>0.000000</td>\n",
              "      <td>5.430000</td>\n",
              "      <td>0.000000</td>\n",
              "      <td>0.000000</td>\n",
              "      <td>1.000000</td>\n",
              "    </tr>\n",
              "    <tr>\n",
              "      <th>25%</th>\n",
              "      <td>1.516522</td>\n",
              "      <td>12.907500</td>\n",
              "      <td>2.115000</td>\n",
              "      <td>1.190000</td>\n",
              "      <td>72.280000</td>\n",
              "      <td>0.122500</td>\n",
              "      <td>8.240000</td>\n",
              "      <td>0.000000</td>\n",
              "      <td>0.000000</td>\n",
              "      <td>1.000000</td>\n",
              "    </tr>\n",
              "    <tr>\n",
              "      <th>50%</th>\n",
              "      <td>1.517680</td>\n",
              "      <td>13.300000</td>\n",
              "      <td>3.480000</td>\n",
              "      <td>1.360000</td>\n",
              "      <td>72.790000</td>\n",
              "      <td>0.555000</td>\n",
              "      <td>8.600000</td>\n",
              "      <td>0.000000</td>\n",
              "      <td>0.000000</td>\n",
              "      <td>2.000000</td>\n",
              "    </tr>\n",
              "    <tr>\n",
              "      <th>75%</th>\n",
              "      <td>1.519157</td>\n",
              "      <td>13.825000</td>\n",
              "      <td>3.600000</td>\n",
              "      <td>1.630000</td>\n",
              "      <td>73.087500</td>\n",
              "      <td>0.610000</td>\n",
              "      <td>9.172500</td>\n",
              "      <td>0.000000</td>\n",
              "      <td>0.100000</td>\n",
              "      <td>3.000000</td>\n",
              "    </tr>\n",
              "    <tr>\n",
              "      <th>max</th>\n",
              "      <td>1.533930</td>\n",
              "      <td>17.380000</td>\n",
              "      <td>4.490000</td>\n",
              "      <td>3.500000</td>\n",
              "      <td>75.410000</td>\n",
              "      <td>6.210000</td>\n",
              "      <td>16.190000</td>\n",
              "      <td>3.150000</td>\n",
              "      <td>0.510000</td>\n",
              "      <td>7.000000</td>\n",
              "    </tr>\n",
              "  </tbody>\n",
              "</table>\n",
              "</div>\n",
              "    <div class=\"colab-df-buttons\">\n",
              "\n",
              "  <div class=\"colab-df-container\">\n",
              "    <button class=\"colab-df-convert\" onclick=\"convertToInteractive('df-5e801864-0809-4bab-a7f9-68448e65083b')\"\n",
              "            title=\"Convert this dataframe to an interactive table.\"\n",
              "            style=\"display:none;\">\n",
              "\n",
              "  <svg xmlns=\"http://www.w3.org/2000/svg\" height=\"24px\" viewBox=\"0 -960 960 960\">\n",
              "    <path d=\"M120-120v-720h720v720H120Zm60-500h600v-160H180v160Zm220 220h160v-160H400v160Zm0 220h160v-160H400v160ZM180-400h160v-160H180v160Zm440 0h160v-160H620v160ZM180-180h160v-160H180v160Zm440 0h160v-160H620v160Z\"/>\n",
              "  </svg>\n",
              "    </button>\n",
              "\n",
              "  <style>\n",
              "    .colab-df-container {\n",
              "      display:flex;\n",
              "      gap: 12px;\n",
              "    }\n",
              "\n",
              "    .colab-df-convert {\n",
              "      background-color: #E8F0FE;\n",
              "      border: none;\n",
              "      border-radius: 50%;\n",
              "      cursor: pointer;\n",
              "      display: none;\n",
              "      fill: #1967D2;\n",
              "      height: 32px;\n",
              "      padding: 0 0 0 0;\n",
              "      width: 32px;\n",
              "    }\n",
              "\n",
              "    .colab-df-convert:hover {\n",
              "      background-color: #E2EBFA;\n",
              "      box-shadow: 0px 1px 2px rgba(60, 64, 67, 0.3), 0px 1px 3px 1px rgba(60, 64, 67, 0.15);\n",
              "      fill: #174EA6;\n",
              "    }\n",
              "\n",
              "    .colab-df-buttons div {\n",
              "      margin-bottom: 4px;\n",
              "    }\n",
              "\n",
              "    [theme=dark] .colab-df-convert {\n",
              "      background-color: #3B4455;\n",
              "      fill: #D2E3FC;\n",
              "    }\n",
              "\n",
              "    [theme=dark] .colab-df-convert:hover {\n",
              "      background-color: #434B5C;\n",
              "      box-shadow: 0px 1px 3px 1px rgba(0, 0, 0, 0.15);\n",
              "      filter: drop-shadow(0px 1px 2px rgba(0, 0, 0, 0.3));\n",
              "      fill: #FFFFFF;\n",
              "    }\n",
              "  </style>\n",
              "\n",
              "    <script>\n",
              "      const buttonEl =\n",
              "        document.querySelector('#df-5e801864-0809-4bab-a7f9-68448e65083b button.colab-df-convert');\n",
              "      buttonEl.style.display =\n",
              "        google.colab.kernel.accessAllowed ? 'block' : 'none';\n",
              "\n",
              "      async function convertToInteractive(key) {\n",
              "        const element = document.querySelector('#df-5e801864-0809-4bab-a7f9-68448e65083b');\n",
              "        const dataTable =\n",
              "          await google.colab.kernel.invokeFunction('convertToInteractive',\n",
              "                                                    [key], {});\n",
              "        if (!dataTable) return;\n",
              "\n",
              "        const docLinkHtml = 'Like what you see? Visit the ' +\n",
              "          '<a target=\"_blank\" href=https://colab.research.google.com/notebooks/data_table.ipynb>data table notebook</a>'\n",
              "          + ' to learn more about interactive tables.';\n",
              "        element.innerHTML = '';\n",
              "        dataTable['output_type'] = 'display_data';\n",
              "        await google.colab.output.renderOutput(dataTable, element);\n",
              "        const docLink = document.createElement('div');\n",
              "        docLink.innerHTML = docLinkHtml;\n",
              "        element.appendChild(docLink);\n",
              "      }\n",
              "    </script>\n",
              "  </div>\n",
              "\n",
              "\n",
              "<div id=\"df-b4d9bd1a-4947-4f7f-9e14-dd5d4ee3483a\">\n",
              "  <button class=\"colab-df-quickchart\" onclick=\"quickchart('df-b4d9bd1a-4947-4f7f-9e14-dd5d4ee3483a')\"\n",
              "            title=\"Suggest charts\"\n",
              "            style=\"display:none;\">\n",
              "\n",
              "<svg xmlns=\"http://www.w3.org/2000/svg\" height=\"24px\"viewBox=\"0 0 24 24\"\n",
              "     width=\"24px\">\n",
              "    <g>\n",
              "        <path d=\"M19 3H5c-1.1 0-2 .9-2 2v14c0 1.1.9 2 2 2h14c1.1 0 2-.9 2-2V5c0-1.1-.9-2-2-2zM9 17H7v-7h2v7zm4 0h-2V7h2v10zm4 0h-2v-4h2v4z\"/>\n",
              "    </g>\n",
              "</svg>\n",
              "  </button>\n",
              "\n",
              "<style>\n",
              "  .colab-df-quickchart {\n",
              "      --bg-color: #E8F0FE;\n",
              "      --fill-color: #1967D2;\n",
              "      --hover-bg-color: #E2EBFA;\n",
              "      --hover-fill-color: #174EA6;\n",
              "      --disabled-fill-color: #AAA;\n",
              "      --disabled-bg-color: #DDD;\n",
              "  }\n",
              "\n",
              "  [theme=dark] .colab-df-quickchart {\n",
              "      --bg-color: #3B4455;\n",
              "      --fill-color: #D2E3FC;\n",
              "      --hover-bg-color: #434B5C;\n",
              "      --hover-fill-color: #FFFFFF;\n",
              "      --disabled-bg-color: #3B4455;\n",
              "      --disabled-fill-color: #666;\n",
              "  }\n",
              "\n",
              "  .colab-df-quickchart {\n",
              "    background-color: var(--bg-color);\n",
              "    border: none;\n",
              "    border-radius: 50%;\n",
              "    cursor: pointer;\n",
              "    display: none;\n",
              "    fill: var(--fill-color);\n",
              "    height: 32px;\n",
              "    padding: 0;\n",
              "    width: 32px;\n",
              "  }\n",
              "\n",
              "  .colab-df-quickchart:hover {\n",
              "    background-color: var(--hover-bg-color);\n",
              "    box-shadow: 0 1px 2px rgba(60, 64, 67, 0.3), 0 1px 3px 1px rgba(60, 64, 67, 0.15);\n",
              "    fill: var(--button-hover-fill-color);\n",
              "  }\n",
              "\n",
              "  .colab-df-quickchart-complete:disabled,\n",
              "  .colab-df-quickchart-complete:disabled:hover {\n",
              "    background-color: var(--disabled-bg-color);\n",
              "    fill: var(--disabled-fill-color);\n",
              "    box-shadow: none;\n",
              "  }\n",
              "\n",
              "  .colab-df-spinner {\n",
              "    border: 2px solid var(--fill-color);\n",
              "    border-color: transparent;\n",
              "    border-bottom-color: var(--fill-color);\n",
              "    animation:\n",
              "      spin 1s steps(1) infinite;\n",
              "  }\n",
              "\n",
              "  @keyframes spin {\n",
              "    0% {\n",
              "      border-color: transparent;\n",
              "      border-bottom-color: var(--fill-color);\n",
              "      border-left-color: var(--fill-color);\n",
              "    }\n",
              "    20% {\n",
              "      border-color: transparent;\n",
              "      border-left-color: var(--fill-color);\n",
              "      border-top-color: var(--fill-color);\n",
              "    }\n",
              "    30% {\n",
              "      border-color: transparent;\n",
              "      border-left-color: var(--fill-color);\n",
              "      border-top-color: var(--fill-color);\n",
              "      border-right-color: var(--fill-color);\n",
              "    }\n",
              "    40% {\n",
              "      border-color: transparent;\n",
              "      border-right-color: var(--fill-color);\n",
              "      border-top-color: var(--fill-color);\n",
              "    }\n",
              "    60% {\n",
              "      border-color: transparent;\n",
              "      border-right-color: var(--fill-color);\n",
              "    }\n",
              "    80% {\n",
              "      border-color: transparent;\n",
              "      border-right-color: var(--fill-color);\n",
              "      border-bottom-color: var(--fill-color);\n",
              "    }\n",
              "    90% {\n",
              "      border-color: transparent;\n",
              "      border-bottom-color: var(--fill-color);\n",
              "    }\n",
              "  }\n",
              "</style>\n",
              "\n",
              "  <script>\n",
              "    async function quickchart(key) {\n",
              "      const quickchartButtonEl =\n",
              "        document.querySelector('#' + key + ' button');\n",
              "      quickchartButtonEl.disabled = true;  // To prevent multiple clicks.\n",
              "      quickchartButtonEl.classList.add('colab-df-spinner');\n",
              "      try {\n",
              "        const charts = await google.colab.kernel.invokeFunction(\n",
              "            'suggestCharts', [key], {});\n",
              "      } catch (error) {\n",
              "        console.error('Error during call to suggestCharts:', error);\n",
              "      }\n",
              "      quickchartButtonEl.classList.remove('colab-df-spinner');\n",
              "      quickchartButtonEl.classList.add('colab-df-quickchart-complete');\n",
              "    }\n",
              "    (() => {\n",
              "      let quickchartButtonEl =\n",
              "        document.querySelector('#df-b4d9bd1a-4947-4f7f-9e14-dd5d4ee3483a button');\n",
              "      quickchartButtonEl.style.display =\n",
              "        google.colab.kernel.accessAllowed ? 'block' : 'none';\n",
              "    })();\n",
              "  </script>\n",
              "</div>\n",
              "    </div>\n",
              "  </div>\n"
            ],
            "application/vnd.google.colaboratory.intrinsic+json": {
              "type": "dataframe",
              "summary": "{\n  \"name\": \"df\",\n  \"rows\": 8,\n  \"fields\": [\n    {\n      \"column\": \"RI\",\n      \"properties\": {\n        \"dtype\": \"number\",\n        \"std\": 75.20167645196686,\n        \"min\": 0.0030368637393854334,\n        \"max\": 214.0,\n        \"num_unique_values\": 8,\n        \"samples\": [\n          1.5183654205607477,\n          1.51768,\n          214.0\n        ],\n        \"semantic_type\": \"\",\n        \"description\": \"\"\n      }\n    },\n    {\n      \"column\": \"Na\",\n      \"properties\": {\n        \"dtype\": \"number\",\n        \"std\": 71.66298840222414,\n        \"min\": 0.8166035557149829,\n        \"max\": 214.0,\n        \"num_unique_values\": 8,\n        \"samples\": [\n          13.407850467289718,\n          13.3,\n          214.0\n        ],\n        \"semantic_type\": \"\",\n        \"description\": \"\"\n      }\n    },\n    {\n      \"column\": \"Mg\",\n      \"properties\": {\n        \"dtype\": \"number\",\n        \"std\": 74.77384379224597,\n        \"min\": 0.0,\n        \"max\": 214.0,\n        \"num_unique_values\": 8,\n        \"samples\": [\n          2.684532710280374,\n          3.48,\n          214.0\n        ],\n        \"semantic_type\": \"\",\n        \"description\": \"\"\n      }\n    },\n    {\n      \"column\": \"Al\",\n      \"properties\": {\n        \"dtype\": \"number\",\n        \"std\": 75.16591071743481,\n        \"min\": 0.29,\n        \"max\": 214.0,\n        \"num_unique_values\": 8,\n        \"samples\": [\n          1.444906542056075,\n          1.36,\n          214.0\n        ],\n        \"semantic_type\": \"\",\n        \"description\": \"\"\n      }\n    },\n    {\n      \"column\": \"Si\",\n      \"properties\": {\n        \"dtype\": \"number\",\n        \"std\": 59.22880894669752,\n        \"min\": 0.7745457947651124,\n        \"max\": 214.0,\n        \"num_unique_values\": 8,\n        \"samples\": [\n          72.65093457943925,\n          72.79,\n          214.0\n        ],\n        \"semantic_type\": \"\",\n        \"description\": \"\"\n      }\n    },\n    {\n      \"column\": \"K\",\n      \"properties\": {\n        \"dtype\": \"number\",\n        \"std\": 75.25146876142092,\n        \"min\": 0.0,\n        \"max\": 214.0,\n        \"num_unique_values\": 8,\n        \"samples\": [\n          0.4970560747663551,\n          0.555,\n          214.0\n        ],\n        \"semantic_type\": \"\",\n        \"description\": \"\"\n      }\n    },\n    {\n      \"column\": \"Ca\",\n      \"properties\": {\n        \"dtype\": \"number\",\n        \"std\": 72.8471864212463,\n        \"min\": 1.4231534872813945,\n        \"max\": 214.0,\n        \"num_unique_values\": 8,\n        \"samples\": [\n          8.95696261682243,\n          8.6,\n          214.0\n        ],\n        \"semantic_type\": \"\",\n        \"description\": \"\"\n      }\n    },\n    {\n      \"column\": \"Ba\",\n      \"properties\": {\n        \"dtype\": \"number\",\n        \"std\": 75.47505067735626,\n        \"min\": 0.0,\n        \"max\": 214.0,\n        \"num_unique_values\": 5,\n        \"samples\": [\n          0.17504672897196263,\n          3.15,\n          0.4972192605997036\n        ],\n        \"semantic_type\": \"\",\n        \"description\": \"\"\n      }\n    },\n    {\n      \"column\": \"Fe\",\n      \"properties\": {\n        \"dtype\": \"number\",\n        \"std\": 75.62200343652809,\n        \"min\": 0.0,\n        \"max\": 214.0,\n        \"num_unique_values\": 6,\n        \"samples\": [\n          214.0,\n          0.05700934579439253,\n          0.51\n        ],\n        \"semantic_type\": \"\",\n        \"description\": \"\"\n      }\n    },\n    {\n      \"column\": \"Type\",\n      \"properties\": {\n        \"dtype\": \"number\",\n        \"std\": 74.73073565843298,\n        \"min\": 1.0,\n        \"max\": 214.0,\n        \"num_unique_values\": 7,\n        \"samples\": [\n          214.0,\n          2.7803738317757007,\n          3.0\n        ],\n        \"semantic_type\": \"\",\n        \"description\": \"\"\n      }\n    }\n  ]\n}"
            }
          },
          "metadata": {},
          "execution_count": 133
        }
      ]
    },
    {
      "cell_type": "code",
      "source": [
        "df.isna().sum()"
      ],
      "metadata": {
        "colab": {
          "base_uri": "https://localhost:8080/",
          "height": 397
        },
        "id": "FEtNID1PN9Lb",
        "outputId": "54d66f1b-ba87-4724-e367-e9cea738d5ec"
      },
      "execution_count": 134,
      "outputs": [
        {
          "output_type": "execute_result",
          "data": {
            "text/plain": [
              "RI      0\n",
              "Na      0\n",
              "Mg      0\n",
              "Al      0\n",
              "Si      0\n",
              "K       0\n",
              "Ca      0\n",
              "Ba      0\n",
              "Fe      0\n",
              "Type    0\n",
              "dtype: int64"
            ],
            "text/html": [
              "<div>\n",
              "<style scoped>\n",
              "    .dataframe tbody tr th:only-of-type {\n",
              "        vertical-align: middle;\n",
              "    }\n",
              "\n",
              "    .dataframe tbody tr th {\n",
              "        vertical-align: top;\n",
              "    }\n",
              "\n",
              "    .dataframe thead th {\n",
              "        text-align: right;\n",
              "    }\n",
              "</style>\n",
              "<table border=\"1\" class=\"dataframe\">\n",
              "  <thead>\n",
              "    <tr style=\"text-align: right;\">\n",
              "      <th></th>\n",
              "      <th>0</th>\n",
              "    </tr>\n",
              "  </thead>\n",
              "  <tbody>\n",
              "    <tr>\n",
              "      <th>RI</th>\n",
              "      <td>0</td>\n",
              "    </tr>\n",
              "    <tr>\n",
              "      <th>Na</th>\n",
              "      <td>0</td>\n",
              "    </tr>\n",
              "    <tr>\n",
              "      <th>Mg</th>\n",
              "      <td>0</td>\n",
              "    </tr>\n",
              "    <tr>\n",
              "      <th>Al</th>\n",
              "      <td>0</td>\n",
              "    </tr>\n",
              "    <tr>\n",
              "      <th>Si</th>\n",
              "      <td>0</td>\n",
              "    </tr>\n",
              "    <tr>\n",
              "      <th>K</th>\n",
              "      <td>0</td>\n",
              "    </tr>\n",
              "    <tr>\n",
              "      <th>Ca</th>\n",
              "      <td>0</td>\n",
              "    </tr>\n",
              "    <tr>\n",
              "      <th>Ba</th>\n",
              "      <td>0</td>\n",
              "    </tr>\n",
              "    <tr>\n",
              "      <th>Fe</th>\n",
              "      <td>0</td>\n",
              "    </tr>\n",
              "    <tr>\n",
              "      <th>Type</th>\n",
              "      <td>0</td>\n",
              "    </tr>\n",
              "  </tbody>\n",
              "</table>\n",
              "</div><br><label><b>dtype:</b> int64</label>"
            ]
          },
          "metadata": {},
          "execution_count": 134
        }
      ]
    },
    {
      "cell_type": "markdown",
      "source": [
        "а) Проверьте количество записей для каждого класса. Сделайте вывод"
      ],
      "metadata": {
        "id": "zKcz6Em1MSCI"
      }
    },
    {
      "cell_type": "code",
      "source": [
        "# проверим количество записей для каждого класса\n",
        "df['Type'].value_counts()"
      ],
      "metadata": {
        "id": "FQWx2pelMEGX",
        "colab": {
          "base_uri": "https://localhost:8080/",
          "height": 303
        },
        "outputId": "7812a914-0901-4a7b-bc70-07fca2fea3d3"
      },
      "execution_count": 135,
      "outputs": [
        {
          "output_type": "execute_result",
          "data": {
            "text/plain": [
              "Type\n",
              "2    76\n",
              "1    70\n",
              "7    29\n",
              "3    17\n",
              "5    13\n",
              "6     9\n",
              "Name: count, dtype: int64"
            ],
            "text/html": [
              "<div>\n",
              "<style scoped>\n",
              "    .dataframe tbody tr th:only-of-type {\n",
              "        vertical-align: middle;\n",
              "    }\n",
              "\n",
              "    .dataframe tbody tr th {\n",
              "        vertical-align: top;\n",
              "    }\n",
              "\n",
              "    .dataframe thead th {\n",
              "        text-align: right;\n",
              "    }\n",
              "</style>\n",
              "<table border=\"1\" class=\"dataframe\">\n",
              "  <thead>\n",
              "    <tr style=\"text-align: right;\">\n",
              "      <th></th>\n",
              "      <th>count</th>\n",
              "    </tr>\n",
              "    <tr>\n",
              "      <th>Type</th>\n",
              "      <th></th>\n",
              "    </tr>\n",
              "  </thead>\n",
              "  <tbody>\n",
              "    <tr>\n",
              "      <th>2</th>\n",
              "      <td>76</td>\n",
              "    </tr>\n",
              "    <tr>\n",
              "      <th>1</th>\n",
              "      <td>70</td>\n",
              "    </tr>\n",
              "    <tr>\n",
              "      <th>7</th>\n",
              "      <td>29</td>\n",
              "    </tr>\n",
              "    <tr>\n",
              "      <th>3</th>\n",
              "      <td>17</td>\n",
              "    </tr>\n",
              "    <tr>\n",
              "      <th>5</th>\n",
              "      <td>13</td>\n",
              "    </tr>\n",
              "    <tr>\n",
              "      <th>6</th>\n",
              "      <td>9</td>\n",
              "    </tr>\n",
              "  </tbody>\n",
              "</table>\n",
              "</div><br><label><b>dtype:</b> int64</label>"
            ]
          },
          "metadata": {},
          "execution_count": 135
        }
      ]
    },
    {
      "cell_type": "markdown",
      "source": [
        "Выводы:\n",
        "- пропусков в данных не обнаружено\n",
        "- самые распространенные типы стекла - 2 и 1\n",
        "- тип стекла 4 отсутствует в данных"
      ],
      "metadata": {
        "id": "-BGP6TTqVPn3"
      }
    },
    {
      "cell_type": "markdown",
      "source": [
        "## Разделите выборку на обучающее и тестовое подмножество. 80% данных оставить на обучающее множество, 20% на тестовое"
      ],
      "metadata": {
        "id": "W25ipcR1MW9j"
      }
    },
    {
      "cell_type": "code",
      "source": [
        "# целевой признак - Type\n",
        "X = df.drop(['Type'], axis=1)\n",
        "y = df['Type']"
      ],
      "metadata": {
        "id": "po5OdfLtMEEA"
      },
      "execution_count": 136,
      "outputs": []
    },
    {
      "cell_type": "code",
      "source": [
        "# Разделим данные на обучающую и тестовую выборки\n",
        "X_train, X_test, y_train, y_test = train_test_split(X, y, test_size=0.2, random_state=42)"
      ],
      "metadata": {
        "id": "SgBLDWDod-XS"
      },
      "execution_count": 137,
      "outputs": []
    },
    {
      "cell_type": "code",
      "source": [
        "X_train.shape"
      ],
      "metadata": {
        "colab": {
          "base_uri": "https://localhost:8080/"
        },
        "id": "GdUYwX3VeGBW",
        "outputId": "86aa5f88-e686-4ade-fbb1-1cfb1c90e052"
      },
      "execution_count": 138,
      "outputs": [
        {
          "output_type": "execute_result",
          "data": {
            "text/plain": [
              "(171, 9)"
            ]
          },
          "metadata": {},
          "execution_count": 138
        }
      ]
    },
    {
      "cell_type": "code",
      "source": [
        "X_test.shape"
      ],
      "metadata": {
        "colab": {
          "base_uri": "https://localhost:8080/"
        },
        "id": "P03rphFseLH8",
        "outputId": "d1ee0856-4c97-4c17-b1bb-7b0007110b09"
      },
      "execution_count": 139,
      "outputs": [
        {
          "output_type": "execute_result",
          "data": {
            "text/plain": [
              "(43, 9)"
            ]
          },
          "metadata": {},
          "execution_count": 139
        }
      ]
    },
    {
      "cell_type": "markdown",
      "source": [
        "## Обучите модель дерева решений RandomForestClassifier на обучающем множестве"
      ],
      "metadata": {
        "id": "EmJNCziIMe_M"
      }
    },
    {
      "cell_type": "code",
      "source": [
        "# обучим модель дерева решений random forest classifier\n",
        "rfc = RandomForestClassifier()\n",
        "rfc.fit(X_train, y_train)"
      ],
      "metadata": {
        "id": "SCEhbxBmMefr",
        "colab": {
          "base_uri": "https://localhost:8080/",
          "height": 80
        },
        "outputId": "fbf7b6c5-8b9e-4620-d3b6-53bf76cf97e7"
      },
      "execution_count": 140,
      "outputs": [
        {
          "output_type": "execute_result",
          "data": {
            "text/plain": [
              "RandomForestClassifier()"
            ],
            "text/html": [
              "<style>#sk-container-id-2 {\n",
              "  /* Definition of color scheme common for light and dark mode */\n",
              "  --sklearn-color-text: black;\n",
              "  --sklearn-color-line: gray;\n",
              "  /* Definition of color scheme for unfitted estimators */\n",
              "  --sklearn-color-unfitted-level-0: #fff5e6;\n",
              "  --sklearn-color-unfitted-level-1: #f6e4d2;\n",
              "  --sklearn-color-unfitted-level-2: #ffe0b3;\n",
              "  --sklearn-color-unfitted-level-3: chocolate;\n",
              "  /* Definition of color scheme for fitted estimators */\n",
              "  --sklearn-color-fitted-level-0: #f0f8ff;\n",
              "  --sklearn-color-fitted-level-1: #d4ebff;\n",
              "  --sklearn-color-fitted-level-2: #b3dbfd;\n",
              "  --sklearn-color-fitted-level-3: cornflowerblue;\n",
              "\n",
              "  /* Specific color for light theme */\n",
              "  --sklearn-color-text-on-default-background: var(--sg-text-color, var(--theme-code-foreground, var(--jp-content-font-color1, black)));\n",
              "  --sklearn-color-background: var(--sg-background-color, var(--theme-background, var(--jp-layout-color0, white)));\n",
              "  --sklearn-color-border-box: var(--sg-text-color, var(--theme-code-foreground, var(--jp-content-font-color1, black)));\n",
              "  --sklearn-color-icon: #696969;\n",
              "\n",
              "  @media (prefers-color-scheme: dark) {\n",
              "    /* Redefinition of color scheme for dark theme */\n",
              "    --sklearn-color-text-on-default-background: var(--sg-text-color, var(--theme-code-foreground, var(--jp-content-font-color1, white)));\n",
              "    --sklearn-color-background: var(--sg-background-color, var(--theme-background, var(--jp-layout-color0, #111)));\n",
              "    --sklearn-color-border-box: var(--sg-text-color, var(--theme-code-foreground, var(--jp-content-font-color1, white)));\n",
              "    --sklearn-color-icon: #878787;\n",
              "  }\n",
              "}\n",
              "\n",
              "#sk-container-id-2 {\n",
              "  color: var(--sklearn-color-text);\n",
              "}\n",
              "\n",
              "#sk-container-id-2 pre {\n",
              "  padding: 0;\n",
              "}\n",
              "\n",
              "#sk-container-id-2 input.sk-hidden--visually {\n",
              "  border: 0;\n",
              "  clip: rect(1px 1px 1px 1px);\n",
              "  clip: rect(1px, 1px, 1px, 1px);\n",
              "  height: 1px;\n",
              "  margin: -1px;\n",
              "  overflow: hidden;\n",
              "  padding: 0;\n",
              "  position: absolute;\n",
              "  width: 1px;\n",
              "}\n",
              "\n",
              "#sk-container-id-2 div.sk-dashed-wrapped {\n",
              "  border: 1px dashed var(--sklearn-color-line);\n",
              "  margin: 0 0.4em 0.5em 0.4em;\n",
              "  box-sizing: border-box;\n",
              "  padding-bottom: 0.4em;\n",
              "  background-color: var(--sklearn-color-background);\n",
              "}\n",
              "\n",
              "#sk-container-id-2 div.sk-container {\n",
              "  /* jupyter's `normalize.less` sets `[hidden] { display: none; }`\n",
              "     but bootstrap.min.css set `[hidden] { display: none !important; }`\n",
              "     so we also need the `!important` here to be able to override the\n",
              "     default hidden behavior on the sphinx rendered scikit-learn.org.\n",
              "     See: https://github.com/scikit-learn/scikit-learn/issues/21755 */\n",
              "  display: inline-block !important;\n",
              "  position: relative;\n",
              "}\n",
              "\n",
              "#sk-container-id-2 div.sk-text-repr-fallback {\n",
              "  display: none;\n",
              "}\n",
              "\n",
              "div.sk-parallel-item,\n",
              "div.sk-serial,\n",
              "div.sk-item {\n",
              "  /* draw centered vertical line to link estimators */\n",
              "  background-image: linear-gradient(var(--sklearn-color-text-on-default-background), var(--sklearn-color-text-on-default-background));\n",
              "  background-size: 2px 100%;\n",
              "  background-repeat: no-repeat;\n",
              "  background-position: center center;\n",
              "}\n",
              "\n",
              "/* Parallel-specific style estimator block */\n",
              "\n",
              "#sk-container-id-2 div.sk-parallel-item::after {\n",
              "  content: \"\";\n",
              "  width: 100%;\n",
              "  border-bottom: 2px solid var(--sklearn-color-text-on-default-background);\n",
              "  flex-grow: 1;\n",
              "}\n",
              "\n",
              "#sk-container-id-2 div.sk-parallel {\n",
              "  display: flex;\n",
              "  align-items: stretch;\n",
              "  justify-content: center;\n",
              "  background-color: var(--sklearn-color-background);\n",
              "  position: relative;\n",
              "}\n",
              "\n",
              "#sk-container-id-2 div.sk-parallel-item {\n",
              "  display: flex;\n",
              "  flex-direction: column;\n",
              "}\n",
              "\n",
              "#sk-container-id-2 div.sk-parallel-item:first-child::after {\n",
              "  align-self: flex-end;\n",
              "  width: 50%;\n",
              "}\n",
              "\n",
              "#sk-container-id-2 div.sk-parallel-item:last-child::after {\n",
              "  align-self: flex-start;\n",
              "  width: 50%;\n",
              "}\n",
              "\n",
              "#sk-container-id-2 div.sk-parallel-item:only-child::after {\n",
              "  width: 0;\n",
              "}\n",
              "\n",
              "/* Serial-specific style estimator block */\n",
              "\n",
              "#sk-container-id-2 div.sk-serial {\n",
              "  display: flex;\n",
              "  flex-direction: column;\n",
              "  align-items: center;\n",
              "  background-color: var(--sklearn-color-background);\n",
              "  padding-right: 1em;\n",
              "  padding-left: 1em;\n",
              "}\n",
              "\n",
              "\n",
              "/* Toggleable style: style used for estimator/Pipeline/ColumnTransformer box that is\n",
              "clickable and can be expanded/collapsed.\n",
              "- Pipeline and ColumnTransformer use this feature and define the default style\n",
              "- Estimators will overwrite some part of the style using the `sk-estimator` class\n",
              "*/\n",
              "\n",
              "/* Pipeline and ColumnTransformer style (default) */\n",
              "\n",
              "#sk-container-id-2 div.sk-toggleable {\n",
              "  /* Default theme specific background. It is overwritten whether we have a\n",
              "  specific estimator or a Pipeline/ColumnTransformer */\n",
              "  background-color: var(--sklearn-color-background);\n",
              "}\n",
              "\n",
              "/* Toggleable label */\n",
              "#sk-container-id-2 label.sk-toggleable__label {\n",
              "  cursor: pointer;\n",
              "  display: block;\n",
              "  width: 100%;\n",
              "  margin-bottom: 0;\n",
              "  padding: 0.5em;\n",
              "  box-sizing: border-box;\n",
              "  text-align: center;\n",
              "}\n",
              "\n",
              "#sk-container-id-2 label.sk-toggleable__label-arrow:before {\n",
              "  /* Arrow on the left of the label */\n",
              "  content: \"▸\";\n",
              "  float: left;\n",
              "  margin-right: 0.25em;\n",
              "  color: var(--sklearn-color-icon);\n",
              "}\n",
              "\n",
              "#sk-container-id-2 label.sk-toggleable__label-arrow:hover:before {\n",
              "  color: var(--sklearn-color-text);\n",
              "}\n",
              "\n",
              "/* Toggleable content - dropdown */\n",
              "\n",
              "#sk-container-id-2 div.sk-toggleable__content {\n",
              "  max-height: 0;\n",
              "  max-width: 0;\n",
              "  overflow: hidden;\n",
              "  text-align: left;\n",
              "  /* unfitted */\n",
              "  background-color: var(--sklearn-color-unfitted-level-0);\n",
              "}\n",
              "\n",
              "#sk-container-id-2 div.sk-toggleable__content.fitted {\n",
              "  /* fitted */\n",
              "  background-color: var(--sklearn-color-fitted-level-0);\n",
              "}\n",
              "\n",
              "#sk-container-id-2 div.sk-toggleable__content pre {\n",
              "  margin: 0.2em;\n",
              "  border-radius: 0.25em;\n",
              "  color: var(--sklearn-color-text);\n",
              "  /* unfitted */\n",
              "  background-color: var(--sklearn-color-unfitted-level-0);\n",
              "}\n",
              "\n",
              "#sk-container-id-2 div.sk-toggleable__content.fitted pre {\n",
              "  /* unfitted */\n",
              "  background-color: var(--sklearn-color-fitted-level-0);\n",
              "}\n",
              "\n",
              "#sk-container-id-2 input.sk-toggleable__control:checked~div.sk-toggleable__content {\n",
              "  /* Expand drop-down */\n",
              "  max-height: 200px;\n",
              "  max-width: 100%;\n",
              "  overflow: auto;\n",
              "}\n",
              "\n",
              "#sk-container-id-2 input.sk-toggleable__control:checked~label.sk-toggleable__label-arrow:before {\n",
              "  content: \"▾\";\n",
              "}\n",
              "\n",
              "/* Pipeline/ColumnTransformer-specific style */\n",
              "\n",
              "#sk-container-id-2 div.sk-label input.sk-toggleable__control:checked~label.sk-toggleable__label {\n",
              "  color: var(--sklearn-color-text);\n",
              "  background-color: var(--sklearn-color-unfitted-level-2);\n",
              "}\n",
              "\n",
              "#sk-container-id-2 div.sk-label.fitted input.sk-toggleable__control:checked~label.sk-toggleable__label {\n",
              "  background-color: var(--sklearn-color-fitted-level-2);\n",
              "}\n",
              "\n",
              "/* Estimator-specific style */\n",
              "\n",
              "/* Colorize estimator box */\n",
              "#sk-container-id-2 div.sk-estimator input.sk-toggleable__control:checked~label.sk-toggleable__label {\n",
              "  /* unfitted */\n",
              "  background-color: var(--sklearn-color-unfitted-level-2);\n",
              "}\n",
              "\n",
              "#sk-container-id-2 div.sk-estimator.fitted input.sk-toggleable__control:checked~label.sk-toggleable__label {\n",
              "  /* fitted */\n",
              "  background-color: var(--sklearn-color-fitted-level-2);\n",
              "}\n",
              "\n",
              "#sk-container-id-2 div.sk-label label.sk-toggleable__label,\n",
              "#sk-container-id-2 div.sk-label label {\n",
              "  /* The background is the default theme color */\n",
              "  color: var(--sklearn-color-text-on-default-background);\n",
              "}\n",
              "\n",
              "/* On hover, darken the color of the background */\n",
              "#sk-container-id-2 div.sk-label:hover label.sk-toggleable__label {\n",
              "  color: var(--sklearn-color-text);\n",
              "  background-color: var(--sklearn-color-unfitted-level-2);\n",
              "}\n",
              "\n",
              "/* Label box, darken color on hover, fitted */\n",
              "#sk-container-id-2 div.sk-label.fitted:hover label.sk-toggleable__label.fitted {\n",
              "  color: var(--sklearn-color-text);\n",
              "  background-color: var(--sklearn-color-fitted-level-2);\n",
              "}\n",
              "\n",
              "/* Estimator label */\n",
              "\n",
              "#sk-container-id-2 div.sk-label label {\n",
              "  font-family: monospace;\n",
              "  font-weight: bold;\n",
              "  display: inline-block;\n",
              "  line-height: 1.2em;\n",
              "}\n",
              "\n",
              "#sk-container-id-2 div.sk-label-container {\n",
              "  text-align: center;\n",
              "}\n",
              "\n",
              "/* Estimator-specific */\n",
              "#sk-container-id-2 div.sk-estimator {\n",
              "  font-family: monospace;\n",
              "  border: 1px dotted var(--sklearn-color-border-box);\n",
              "  border-radius: 0.25em;\n",
              "  box-sizing: border-box;\n",
              "  margin-bottom: 0.5em;\n",
              "  /* unfitted */\n",
              "  background-color: var(--sklearn-color-unfitted-level-0);\n",
              "}\n",
              "\n",
              "#sk-container-id-2 div.sk-estimator.fitted {\n",
              "  /* fitted */\n",
              "  background-color: var(--sklearn-color-fitted-level-0);\n",
              "}\n",
              "\n",
              "/* on hover */\n",
              "#sk-container-id-2 div.sk-estimator:hover {\n",
              "  /* unfitted */\n",
              "  background-color: var(--sklearn-color-unfitted-level-2);\n",
              "}\n",
              "\n",
              "#sk-container-id-2 div.sk-estimator.fitted:hover {\n",
              "  /* fitted */\n",
              "  background-color: var(--sklearn-color-fitted-level-2);\n",
              "}\n",
              "\n",
              "/* Specification for estimator info (e.g. \"i\" and \"?\") */\n",
              "\n",
              "/* Common style for \"i\" and \"?\" */\n",
              "\n",
              ".sk-estimator-doc-link,\n",
              "a:link.sk-estimator-doc-link,\n",
              "a:visited.sk-estimator-doc-link {\n",
              "  float: right;\n",
              "  font-size: smaller;\n",
              "  line-height: 1em;\n",
              "  font-family: monospace;\n",
              "  background-color: var(--sklearn-color-background);\n",
              "  border-radius: 1em;\n",
              "  height: 1em;\n",
              "  width: 1em;\n",
              "  text-decoration: none !important;\n",
              "  margin-left: 1ex;\n",
              "  /* unfitted */\n",
              "  border: var(--sklearn-color-unfitted-level-1) 1pt solid;\n",
              "  color: var(--sklearn-color-unfitted-level-1);\n",
              "}\n",
              "\n",
              ".sk-estimator-doc-link.fitted,\n",
              "a:link.sk-estimator-doc-link.fitted,\n",
              "a:visited.sk-estimator-doc-link.fitted {\n",
              "  /* fitted */\n",
              "  border: var(--sklearn-color-fitted-level-1) 1pt solid;\n",
              "  color: var(--sklearn-color-fitted-level-1);\n",
              "}\n",
              "\n",
              "/* On hover */\n",
              "div.sk-estimator:hover .sk-estimator-doc-link:hover,\n",
              ".sk-estimator-doc-link:hover,\n",
              "div.sk-label-container:hover .sk-estimator-doc-link:hover,\n",
              ".sk-estimator-doc-link:hover {\n",
              "  /* unfitted */\n",
              "  background-color: var(--sklearn-color-unfitted-level-3);\n",
              "  color: var(--sklearn-color-background);\n",
              "  text-decoration: none;\n",
              "}\n",
              "\n",
              "div.sk-estimator.fitted:hover .sk-estimator-doc-link.fitted:hover,\n",
              ".sk-estimator-doc-link.fitted:hover,\n",
              "div.sk-label-container:hover .sk-estimator-doc-link.fitted:hover,\n",
              ".sk-estimator-doc-link.fitted:hover {\n",
              "  /* fitted */\n",
              "  background-color: var(--sklearn-color-fitted-level-3);\n",
              "  color: var(--sklearn-color-background);\n",
              "  text-decoration: none;\n",
              "}\n",
              "\n",
              "/* Span, style for the box shown on hovering the info icon */\n",
              ".sk-estimator-doc-link span {\n",
              "  display: none;\n",
              "  z-index: 9999;\n",
              "  position: relative;\n",
              "  font-weight: normal;\n",
              "  right: .2ex;\n",
              "  padding: .5ex;\n",
              "  margin: .5ex;\n",
              "  width: min-content;\n",
              "  min-width: 20ex;\n",
              "  max-width: 50ex;\n",
              "  color: var(--sklearn-color-text);\n",
              "  box-shadow: 2pt 2pt 4pt #999;\n",
              "  /* unfitted */\n",
              "  background: var(--sklearn-color-unfitted-level-0);\n",
              "  border: .5pt solid var(--sklearn-color-unfitted-level-3);\n",
              "}\n",
              "\n",
              ".sk-estimator-doc-link.fitted span {\n",
              "  /* fitted */\n",
              "  background: var(--sklearn-color-fitted-level-0);\n",
              "  border: var(--sklearn-color-fitted-level-3);\n",
              "}\n",
              "\n",
              ".sk-estimator-doc-link:hover span {\n",
              "  display: block;\n",
              "}\n",
              "\n",
              "/* \"?\"-specific style due to the `<a>` HTML tag */\n",
              "\n",
              "#sk-container-id-2 a.estimator_doc_link {\n",
              "  float: right;\n",
              "  font-size: 1rem;\n",
              "  line-height: 1em;\n",
              "  font-family: monospace;\n",
              "  background-color: var(--sklearn-color-background);\n",
              "  border-radius: 1rem;\n",
              "  height: 1rem;\n",
              "  width: 1rem;\n",
              "  text-decoration: none;\n",
              "  /* unfitted */\n",
              "  color: var(--sklearn-color-unfitted-level-1);\n",
              "  border: var(--sklearn-color-unfitted-level-1) 1pt solid;\n",
              "}\n",
              "\n",
              "#sk-container-id-2 a.estimator_doc_link.fitted {\n",
              "  /* fitted */\n",
              "  border: var(--sklearn-color-fitted-level-1) 1pt solid;\n",
              "  color: var(--sklearn-color-fitted-level-1);\n",
              "}\n",
              "\n",
              "/* On hover */\n",
              "#sk-container-id-2 a.estimator_doc_link:hover {\n",
              "  /* unfitted */\n",
              "  background-color: var(--sklearn-color-unfitted-level-3);\n",
              "  color: var(--sklearn-color-background);\n",
              "  text-decoration: none;\n",
              "}\n",
              "\n",
              "#sk-container-id-2 a.estimator_doc_link.fitted:hover {\n",
              "  /* fitted */\n",
              "  background-color: var(--sklearn-color-fitted-level-3);\n",
              "}\n",
              "</style><div id=\"sk-container-id-2\" class=\"sk-top-container\"><div class=\"sk-text-repr-fallback\"><pre>RandomForestClassifier()</pre><b>In a Jupyter environment, please rerun this cell to show the HTML representation or trust the notebook. <br />On GitHub, the HTML representation is unable to render, please try loading this page with nbviewer.org.</b></div><div class=\"sk-container\" hidden><div class=\"sk-item\"><div class=\"sk-estimator fitted sk-toggleable\"><input class=\"sk-toggleable__control sk-hidden--visually\" id=\"sk-estimator-id-2\" type=\"checkbox\" checked><label for=\"sk-estimator-id-2\" class=\"sk-toggleable__label fitted sk-toggleable__label-arrow fitted\">&nbsp;&nbsp;RandomForestClassifier<a class=\"sk-estimator-doc-link fitted\" rel=\"noreferrer\" target=\"_blank\" href=\"https://scikit-learn.org/1.5/modules/generated/sklearn.ensemble.RandomForestClassifier.html\">?<span>Documentation for RandomForestClassifier</span></a><span class=\"sk-estimator-doc-link fitted\">i<span>Fitted</span></span></label><div class=\"sk-toggleable__content fitted\"><pre>RandomForestClassifier()</pre></div> </div></div></div></div>"
            ]
          },
          "metadata": {},
          "execution_count": 140
        }
      ]
    },
    {
      "cell_type": "markdown",
      "source": [
        "## Для тестового множества предскажите тип стекла и сравните с истинным значением, посчитав точность предсказания модели (accuracy)"
      ],
      "metadata": {
        "id": "gmxNg915Mpua"
      }
    },
    {
      "cell_type": "code",
      "source": [
        "y_pred = rfc.predict(X_test)"
      ],
      "metadata": {
        "id": "eZ_n0BPkMEBF"
      },
      "execution_count": 141,
      "outputs": []
    },
    {
      "cell_type": "code",
      "source": [
        "y_pred"
      ],
      "metadata": {
        "colab": {
          "base_uri": "https://localhost:8080/"
        },
        "id": "LLMASQ3aeji3",
        "outputId": "f560c962-f546-4e44-fa9b-3b72d2ed0c04"
      },
      "execution_count": 142,
      "outputs": [
        {
          "output_type": "execute_result",
          "data": {
            "text/plain": [
              "array([1, 7, 1, 7, 2, 2, 1, 2, 2, 1, 6, 2, 1, 2, 6, 5, 7, 1, 1, 6, 2, 7,\n",
              "       7, 7, 3, 2, 1, 1, 5, 1, 1, 2, 3, 2, 1, 7, 5, 1, 1, 7, 2, 7, 1])"
            ]
          },
          "metadata": {},
          "execution_count": 142
        }
      ]
    },
    {
      "cell_type": "code",
      "source": [
        "# посчитаем точность\n",
        "accuracy_score(y_test, y_pred)"
      ],
      "metadata": {
        "colab": {
          "base_uri": "https://localhost:8080/"
        },
        "id": "BhhWjQQcels6",
        "outputId": "a605a4f5-09f2-447c-ed29-641b873e74d7"
      },
      "execution_count": 143,
      "outputs": [
        {
          "output_type": "execute_result",
          "data": {
            "text/plain": [
              "0.8604651162790697"
            ]
          },
          "metadata": {},
          "execution_count": 143
        }
      ]
    },
    {
      "cell_type": "markdown",
      "source": [
        "## Обработайте выбросы в данных"
      ],
      "metadata": {
        "id": "6zW4kYghMvVG"
      }
    },
    {
      "cell_type": "code",
      "source": [
        "# проверим количество уникальных значений\n",
        "def unique_count(df):\n",
        "  for col in df.columns:\n",
        "    print(f'{col} - {df[col].nunique()}')"
      ],
      "metadata": {
        "id": "nN-Y7oNNgndd"
      },
      "execution_count": 144,
      "outputs": []
    },
    {
      "cell_type": "code",
      "source": [
        "unique_count(df)"
      ],
      "metadata": {
        "colab": {
          "base_uri": "https://localhost:8080/"
        },
        "id": "3WWTVHF6gxK9",
        "outputId": "774b7e49-2c67-4843-97ea-0d739290936d"
      },
      "execution_count": 145,
      "outputs": [
        {
          "output_type": "stream",
          "name": "stdout",
          "text": [
            "RI - 178\n",
            "Na - 142\n",
            "Mg - 94\n",
            "Al - 118\n",
            "Si - 133\n",
            "K - 65\n",
            "Ca - 143\n",
            "Ba - 34\n",
            "Fe - 32\n",
            "Type - 6\n"
          ]
        }
      ]
    },
    {
      "cell_type": "code",
      "source": [
        "# посмотрим на уникальные значения\n",
        "def unique_values(df):\n",
        "  for col in df.columns:\n",
        "    print(df[col].value_counts())"
      ],
      "metadata": {
        "id": "i4yw0GGpg9cQ"
      },
      "execution_count": 146,
      "outputs": []
    },
    {
      "cell_type": "code",
      "source": [
        "unique_values(df)"
      ],
      "metadata": {
        "colab": {
          "base_uri": "https://localhost:8080/"
        },
        "id": "DmiFvQJwhVfQ",
        "outputId": "cfdea18c-b80f-430b-d682-7744cbfa60d3"
      },
      "execution_count": 147,
      "outputs": [
        {
          "output_type": "stream",
          "name": "stdout",
          "text": [
            "RI\n",
            "1.52152    3\n",
            "1.51590    3\n",
            "1.51645    3\n",
            "1.51754    2\n",
            "1.51841    2\n",
            "          ..\n",
            "1.51625    1\n",
            "1.51569    1\n",
            "1.51605    1\n",
            "1.51588    1\n",
            "1.51651    1\n",
            "Name: count, Length: 178, dtype: int64\n",
            "Na\n",
            "13.02    5\n",
            "13.21    5\n",
            "13.00    5\n",
            "13.64    4\n",
            "13.33    4\n",
            "        ..\n",
            "13.34    1\n",
            "13.31    1\n",
            "14.17    1\n",
            "13.51    1\n",
            "14.23    1\n",
            "Name: count, Length: 142, dtype: int64\n",
            "Mg\n",
            "0.00    42\n",
            "3.48     8\n",
            "3.58     8\n",
            "3.54     8\n",
            "3.52     7\n",
            "        ..\n",
            "2.76     1\n",
            "3.15     1\n",
            "2.90     1\n",
            "3.83     1\n",
            "1.78     1\n",
            "Name: count, Length: 94, dtype: int64\n",
            "Al\n",
            "1.54    8\n",
            "1.19    6\n",
            "1.43    5\n",
            "1.29    5\n",
            "1.23    5\n",
            "       ..\n",
            "1.08    1\n",
            "1.64    1\n",
            "1.61    1\n",
            "1.07    1\n",
            "1.94    1\n",
            "Name: count, Length: 118, dtype: int64\n",
            "Si\n",
            "72.86    4\n",
            "72.99    4\n",
            "73.10    4\n",
            "73.28    4\n",
            "73.11    4\n",
            "        ..\n",
            "73.55    1\n",
            "72.34    1\n",
            "72.26    1\n",
            "73.26    1\n",
            "73.61    1\n",
            "Name: count, Length: 133, dtype: int64\n",
            "K\n",
            "0.00    30\n",
            "0.57    12\n",
            "0.56    11\n",
            "0.60    11\n",
            "0.58    10\n",
            "        ..\n",
            "0.44     1\n",
            "0.07     1\n",
            "0.73     1\n",
            "0.70     1\n",
            "1.41     1\n",
            "Name: count, Length: 65, dtype: int64\n",
            "Ca\n",
            "8.03    5\n",
            "8.43    5\n",
            "9.57    4\n",
            "8.79    4\n",
            "8.44    4\n",
            "       ..\n",
            "9.23    1\n",
            "8.90    1\n",
            "9.13    1\n",
            "8.09    1\n",
            "8.62    1\n",
            "Name: count, Length: 143, dtype: int64\n",
            "Ba\n",
            "0.00    176\n",
            "0.64      2\n",
            "1.57      2\n",
            "0.09      2\n",
            "1.59      2\n",
            "0.11      2\n",
            "3.15      1\n",
            "0.81      1\n",
            "1.64      1\n",
            "1.06      1\n",
            "0.54      1\n",
            "2.88      1\n",
            "1.38      1\n",
            "1.55      1\n",
            "0.67      1\n",
            "1.71      1\n",
            "0.56      1\n",
            "0.63      1\n",
            "0.53      1\n",
            "0.66      1\n",
            "0.61      1\n",
            "0.27      1\n",
            "0.69      1\n",
            "0.40      1\n",
            "0.14      1\n",
            "0.76      1\n",
            "1.68      1\n",
            "1.63      1\n",
            "1.19      1\n",
            "0.24      1\n",
            "2.20      1\n",
            "0.15      1\n",
            "0.06      1\n",
            "1.67      1\n",
            "Name: count, dtype: int64\n",
            "Fe\n",
            "0.00    144\n",
            "0.24      7\n",
            "0.17      7\n",
            "0.09      6\n",
            "0.10      5\n",
            "0.11      4\n",
            "0.16      3\n",
            "0.28      3\n",
            "0.12      3\n",
            "0.22      3\n",
            "0.14      3\n",
            "0.07      3\n",
            "0.19      2\n",
            "0.15      2\n",
            "0.08      2\n",
            "0.06      1\n",
            "0.21      1\n",
            "0.05      1\n",
            "0.51      1\n",
            "0.37      1\n",
            "0.35      1\n",
            "0.25      1\n",
            "0.18      1\n",
            "0.34      1\n",
            "0.29      1\n",
            "0.30      1\n",
            "0.20      1\n",
            "0.32      1\n",
            "0.26      1\n",
            "0.03      1\n",
            "0.31      1\n",
            "0.01      1\n",
            "Name: count, dtype: int64\n",
            "Type\n",
            "2    76\n",
            "1    70\n",
            "7    29\n",
            "3    17\n",
            "5    13\n",
            "6     9\n",
            "Name: count, dtype: int64\n"
          ]
        }
      ]
    },
    {
      "cell_type": "markdown",
      "source": [
        "а) Визуализируйте распределение значений для каждой переменной. Можно использовать функции sns.boxplot, sns.distplot. Есть ли признаки с нормальным распределением?"
      ],
      "metadata": {
        "id": "8tn8T31JM2El"
      }
    },
    {
      "cell_type": "markdown",
      "source": [
        "Построим несколько графиков"
      ],
      "metadata": {
        "id": "FUQYWbZ2Pot0"
      }
    },
    {
      "cell_type": "code",
      "source": [
        "# построим несколько графиков\n",
        "def get_displot(X, columns=[]):\n",
        "  for i in columns:\n",
        "    sns.set(rc={\"figure.figsize\": (8, 4)})\n",
        "    sns.displot(X[i])\n",
        "    plt.gca().spines[['top', 'right',]].set_visible(False)"
      ],
      "metadata": {
        "id": "LIyGj1dHWvzQ"
      },
      "execution_count": 148,
      "outputs": []
    },
    {
      "cell_type": "code",
      "source": [
        "get_displot(df, ['RI', 'Na', 'Mg', 'Al', 'Si', 'K', 'Ca', 'Ba', 'Fe', 'Type'])"
      ],
      "metadata": {
        "colab": {
          "base_uri": "https://localhost:8080/",
          "height": 1000
        },
        "id": "tbm_1P0xX3Gd",
        "outputId": "9f978f63-957a-469b-f63a-5367dcf3ce15"
      },
      "execution_count": 149,
      "outputs": [
        {
          "output_type": "display_data",
          "data": {
            "text/plain": [
              "<Figure size 500x500 with 1 Axes>"
            ],
            "image/png": "[encoded data removed]"
          },
          "metadata": {}
        },
        {
          "output_type": "display_data",
          "data": {
            "text/plain": [
              "<Figure size 500x500 with 1 Axes>"
            ],
            "image/png": "[encoded data removed]"
          },
          "metadata": {}
        },
        {
          "output_type": "display_data",
          "data": {
            "text/plain": [
              "<Figure size 500x500 with 1 Axes>"
            ],
            "image/png": "[encoded data removed]"
          },
          "metadata": {}
        },
        {
          "output_type": "display_data",
          "data": {
            "text/plain": [
              "<Figure size 500x500 with 1 Axes>"
            ],
            "image/png": "[encoded data removed]"
          },
          "metadata": {}
        },
        {
          "output_type": "display_data",
          "data": {
            "text/plain": [
              "<Figure size 500x500 with 1 Axes>"
            ],
            "image/png": "[encoded data removed]"
          },
          "metadata": {}
        },
        {
          "output_type": "display_data",
          "data": {
            "text/plain": [
              "<Figure size 500x500 with 1 Axes>"
            ],
            "image/png": "[encoded data removed]"
          },
          "metadata": {}
        },
        {
          "output_type": "display_data",
          "data": {
            "text/plain": [
              "<Figure size 500x500 with 1 Axes>"
            ],
            "image/png": "[encoded data removed]"
          },
          "metadata": {}
        },
        {
          "output_type": "display_data",
          "data": {
            "text/plain": [
              "<Figure size 500x500 with 1 Axes>"
            ],
            "image/png": "[encoded data removed]"
          },
          "metadata": {}
        },
        {
          "output_type": "display_data",
          "data": {
            "text/plain": [
              "<Figure size 500x500 with 1 Axes>"
            ],
            "image/png": "[encoded data removed]"
          },
          "metadata": {}
        },
        {
          "output_type": "display_data",
          "data": {
            "text/plain": [
              "<Figure size 500x500 with 1 Axes>"
            ],
            "image/png": "[encoded data removed]"
          },
          "metadata": {}
        }
      ]
    },
    {
      "cell_type": "markdown",
      "source": [
        "Признаки 'RI', 'Na', 'Al', 'Si', имеют тенденцию к нормальному распределению\n",
        "\n",
        "Признаки 'K', 'Ca', 'Ba', 'Fe' имеют тенденцию к логнормальному распределению\n",
        "\n",
        "Признак 'Mg' имеет двойное (двугорбное) распределение"
      ],
      "metadata": {
        "id": "oR2M3S44VDDN"
      }
    },
    {
      "cell_type": "code",
      "source": [
        "# посроим несколько бокслотов\n",
        "def get_boxplot(X, columns=[]):\n",
        "  for i in columns:\n",
        "    fig, axes = plt.subplots(1, 1, figsize=(8, 2))\n",
        "    sns.boxplot(x=X[i])"
      ],
      "metadata": {
        "id": "KEkgjkunMD70"
      },
      "execution_count": 150,
      "outputs": []
    },
    {
      "cell_type": "code",
      "source": [
        "get_boxplot(df, ['RI', 'Na', 'Mg', 'Al', 'Si', 'K', 'Ca', 'Ba', 'Fe', 'Type'])"
      ],
      "metadata": {
        "colab": {
          "base_uri": "https://localhost:8080/",
          "height": 1000
        },
        "id": "JpYShh1ifWiD",
        "outputId": "d002343f-2976-4ade-f285-2ac1f0059e29"
      },
      "execution_count": 151,
      "outputs": [
        {
          "output_type": "display_data",
          "data": {
            "text/plain": [
              "<Figure size 800x200 with 1 Axes>"
            ],
            "image/png": "[encoded data removed]"
          },
          "metadata": {}
        },
        {
          "output_type": "display_data",
          "data": {
            "text/plain": [
              "<Figure size 800x200 with 1 Axes>"
            ],
            "image/png": "[encoded data removed]"
          },
          "metadata": {}
        },
        {
          "output_type": "display_data",
          "data": {
            "text/plain": [
              "<Figure size 800x200 with 1 Axes>"
            ],
            "image/png": "[encoded data removed]"
          },
          "metadata": {}
        },
        {
          "output_type": "display_data",
          "data": {
            "text/plain": [
              "<Figure size 800x200 with 1 Axes>"
            ],
            "image/png": "[encoded data removed]"
          },
          "metadata": {}
        },
        {
          "output_type": "display_data",
          "data": {
            "text/plain": [
              "<Figure size 800x200 with 1 Axes>"
            ],
            "image/png": "[encoded data removed]"
          },
          "metadata": {}
        },
        {
          "output_type": "display_data",
          "data": {
            "text/plain": [
              "<Figure size 800x200 with 1 Axes>"
            ],
            "image/png": "[encoded data removed]"
          },
          "metadata": {}
        },
        {
          "output_type": "display_data",
          "data": {
            "text/plain": [
              "<Figure size 800x200 with 1 Axes>"
            ],
            "image/png": "[encoded data removed]"
          },
          "metadata": {}
        },
        {
          "output_type": "display_data",
          "data": {
            "text/plain": [
              "<Figure size 800x200 with 1 Axes>"
            ],
            "image/png": "[encoded data removed]"
          },
          "metadata": {}
        },
        {
          "output_type": "display_data",
          "data": {
            "text/plain": [
              "<Figure size 800x200 with 1 Axes>"
            ],
            "image/png": "[encoded data removed]"
          },
          "metadata": {}
        },
        {
          "output_type": "display_data",
          "data": {
            "text/plain": [
              "<Figure size 800x200 with 1 Axes>"
            ],
            "image/png": "[encoded data removed]"
          },
          "metadata": {}
        }
      ]
    },
    {
      "cell_type": "markdown",
      "source": [
        "По построенным боксплотам отмечается, что у всех признаков, за исключением 'Mg', имеются выбросы.\n",
        "\n",
        "Предлагается посмотреть на признаки, которые выходят на границы усов в таблице, за исключением Ba, по Ba выбросы трудно определяются, так как исходя из бокспллота, выбросами являются практически все значения"
      ],
      "metadata": {
        "id": "VdjBMcqYWdEZ"
      }
    },
    {
      "cell_type": "code",
      "source": [
        "# посмотрим на значения признаков больше верхнего уса боксплота:\n",
        "def up_unique (df, columns=[]):\n",
        "  for i in columns:\n",
        "    print(i)\n",
        "    print(df[df[i] > (df[i].quantile(0.75) + 1.5 * (df[i].quantile(0.75) - df[i].quantile(0.25)))])"
      ],
      "metadata": {
        "id": "DFZvo5krzN5x"
      },
      "execution_count": 166,
      "outputs": []
    },
    {
      "cell_type": "code",
      "source": [
        "up_unique(df, ['RI', 'Na', 'Al', 'Si', 'K', 'Ca', 'Fe'])"
      ],
      "metadata": {
        "colab": {
          "base_uri": "https://localhost:8080/"
        },
        "id": "x-6FGtPxzkyA",
        "outputId": "3c974f32-331d-4587-fd1a-f7d937f4c8e8"
      },
      "execution_count": 169,
      "outputs": [
        {
          "output_type": "stream",
          "name": "stdout",
          "text": [
            "RI\n",
            "          RI     Na    Mg    Al     Si     K     Ca    Ba    Fe  Type\n",
            "47   1.52667  13.99  3.70  0.71  71.57  0.02   9.82  0.00  0.10     1\n",
            "50   1.52320  13.72  3.72  0.51  71.75  0.09  10.06  0.00  0.16     1\n",
            "103  1.52725  13.80  3.15  0.66  70.57  0.08  11.64  0.00  0.00     2\n",
            "104  1.52410  13.83  2.90  1.17  71.15  0.08  10.79  0.00  0.00     2\n",
            "105  1.52475  11.45  0.00  1.88  72.19  0.81  13.24  0.00  0.34     2\n",
            "106  1.53125  10.73  0.00  2.10  69.81  0.58  13.30  3.15  0.28     2\n",
            "107  1.53393  12.30  0.00  1.00  70.16  0.12  16.19  0.00  0.24     2\n",
            "110  1.52664  11.23  0.00  0.77  73.21  0.00  14.68  0.00  0.00     2\n",
            "111  1.52739  11.02  0.00  0.75  73.08  0.00  14.96  0.00  0.00     2\n",
            "112  1.52777  12.64  0.00  0.67  72.02  0.06  14.40  0.00  0.00     2\n",
            "131  1.52614  13.70  0.00  1.36  71.24  0.19  13.44  0.00  0.10     2\n",
            "170  1.52369  13.44  0.00  1.58  72.22  0.32  12.24  0.00  0.00     5\n",
            "187  1.52315  13.44  3.34  1.23  72.38  0.60   8.83  0.00  0.00     7\n",
            "189  1.52365  15.79  1.83  1.31  70.43  0.31   8.61  1.68  0.00     7\n",
            "Na\n",
            "          RI     Na    Mg    Al     Si     K    Ca    Ba   Fe  Type\n",
            "184  1.51115  17.38  0.00  0.34  75.41  0.00  6.65  0.00  0.0     6\n",
            "189  1.52365  15.79  1.83  1.31  70.43  0.31  8.61  1.68  0.0     7\n",
            "Al\n",
            "          RI     Na    Mg    Al     Si     K    Ca    Ba    Fe  Type\n",
            "163  1.51514  14.01  2.68  3.50  69.89  1.68  5.87  2.20  0.00     5\n",
            "171  1.51316  13.02  0.00  3.04  70.48  6.21  6.96  0.00  0.00     5\n",
            "172  1.51321  13.00  0.00  3.02  70.70  6.21  6.93  0.00  0.00     5\n",
            "191  1.51602  14.85  0.00  2.38  73.28  0.00  8.76  0.64  0.09     7\n",
            "192  1.51623  14.20  0.00  2.79  73.46  0.04  9.04  0.40  0.09     7\n",
            "195  1.51545  14.14  0.00  2.68  73.39  0.08  9.07  0.61  0.05     7\n",
            "196  1.51556  13.87  0.00  2.54  73.23  0.14  9.41  0.81  0.01     7\n",
            "197  1.51727  14.70  0.00  2.34  73.28  0.00  8.95  0.66  0.00     7\n",
            "198  1.51531  14.38  0.00  2.66  73.10  0.04  9.08  0.64  0.00     7\n",
            "199  1.51609  15.01  0.00  2.51  73.05  0.05  8.83  0.53  0.00     7\n",
            "202  1.51514  14.85  0.00  2.42  73.72  0.00  8.39  0.56  0.00     7\n",
            "208  1.51640  14.37  0.00  2.74  72.85  0.00  9.45  0.54  0.00     7\n",
            "209  1.51623  14.14  0.00  2.88  72.61  0.08  9.18  1.06  0.00     7\n",
            "Si\n",
            "          RI     Na    Mg    Al     Si    K     Ca   Ba   Fe  Type\n",
            "109  1.51818  13.72  0.00  0.56  74.45  0.0  10.99  0.0  0.0     2\n",
            "180  1.51299  14.40  1.74  1.54  74.55  0.0   7.59  0.0  0.0     6\n",
            "184  1.51115  17.38  0.00  0.34  75.41  0.0   6.65  0.0  0.0     6\n",
            "201  1.51653  11.95  0.00  1.19  75.18  2.7   8.93  0.0  0.0     7\n",
            "K\n",
            "          RI     Na    Mg    Al     Si     K    Ca    Ba   Fe  Type\n",
            "163  1.51514  14.01  2.68  3.50  69.89  1.68  5.87  2.20  0.0     5\n",
            "171  1.51316  13.02  0.00  3.04  70.48  6.21  6.96  0.00  0.0     5\n",
            "172  1.51321  13.00  0.00  3.02  70.70  6.21  6.93  0.00  0.0     5\n",
            "185  1.51131  13.69  3.20  1.81  72.81  1.76  5.43  1.19  0.0     7\n",
            "186  1.51838  14.32  3.26  2.22  71.25  1.46  5.79  1.63  0.0     7\n",
            "201  1.51653  11.95  0.00  1.19  75.18  2.70  8.93  0.00  0.0     7\n",
            "207  1.51831  14.39  0.00  1.82  72.86  1.41  6.47  2.88  0.0     7\n",
            "Ca\n",
            "          RI     Na    Mg    Al     Si     K     Ca    Ba    Fe  Type\n",
            "103  1.52725  13.80  3.15  0.66  70.57  0.08  11.64  0.00  0.00     2\n",
            "104  1.52410  13.83  2.90  1.17  71.15  0.08  10.79  0.00  0.00     2\n",
            "105  1.52475  11.45  0.00  1.88  72.19  0.81  13.24  0.00  0.34     2\n",
            "106  1.53125  10.73  0.00  2.10  69.81  0.58  13.30  3.15  0.28     2\n",
            "107  1.53393  12.30  0.00  1.00  70.16  0.12  16.19  0.00  0.24     2\n",
            "108  1.52222  14.43  0.00  1.00  72.67  0.10  11.52  0.00  0.08     2\n",
            "109  1.51818  13.72  0.00  0.56  74.45  0.00  10.99  0.00  0.00     2\n",
            "110  1.52664  11.23  0.00  0.77  73.21  0.00  14.68  0.00  0.00     2\n",
            "111  1.52739  11.02  0.00  0.75  73.08  0.00  14.96  0.00  0.00     2\n",
            "112  1.52777  12.64  0.00  0.67  72.02  0.06  14.40  0.00  0.00     2\n",
            "130  1.52177  13.75  1.01  1.36  72.19  0.33  11.14  0.00  0.00     2\n",
            "131  1.52614  13.70  0.00  1.36  71.24  0.19  13.44  0.00  0.10     2\n",
            "165  1.52171  11.56  1.88  1.56  72.86  0.47  11.41  0.00  0.00     5\n",
            "166  1.52151  11.03  1.71  1.56  73.44  0.58  11.62  0.00  0.00     5\n",
            "167  1.51969  12.64  0.00  1.65  73.75  0.38  11.53  0.00  0.00     5\n",
            "169  1.51994  13.27  0.00  1.76  73.03  0.47  11.32  0.00  0.00     5\n",
            "170  1.52369  13.44  0.00  1.58  72.22  0.32  12.24  0.00  0.00     5\n",
            "173  1.52043  13.38  0.00  1.40  72.25  0.33  12.50  0.00  0.00     5\n",
            "175  1.52119  12.97  0.33  1.51  73.39  0.13  11.27  0.00  0.28     5\n",
            "182  1.51916  14.15  0.00  2.09  72.74  0.00  10.88  0.00  0.00     6\n",
            "183  1.51969  14.56  0.00  0.56  73.48  0.00  11.22  0.00  0.00     6\n",
            "Fe\n",
            "          RI     Na    Mg    Al     Si     K     Ca    Ba    Fe  Type\n",
            "5    1.51596  12.79  3.61  1.62  72.97  0.64   8.07  0.00  0.26     1\n",
            "44   1.51786  12.73  3.43  1.19  72.95  0.62   8.76  0.00  0.30     1\n",
            "56   1.51215  12.99  3.47  1.12  72.98  0.62   8.35  0.00  0.31     1\n",
            "71   1.51848  13.64  3.87  1.27  71.96  0.54   8.32  0.00  0.32     2\n",
            "105  1.52475  11.45  0.00  1.88  72.19  0.81  13.24  0.00  0.34     2\n",
            "106  1.53125  10.73  0.00  2.10  69.81  0.58  13.30  3.15  0.28     2\n",
            "118  1.51673  13.30  3.64  1.53  72.53  0.65   8.03  0.00  0.29     2\n",
            "135  1.51789  13.19  3.90  1.30  72.33  0.55   8.44  0.00  0.28     2\n",
            "145  1.51839  12.85  3.67  1.24  72.57  0.62   8.68  0.00  0.35     2\n",
            "162  1.52211  14.19  3.78  0.91  71.36  0.23   9.14  0.00  0.37     3\n",
            "174  1.52058  12.85  1.61  2.17  72.18  0.76   9.70  0.24  0.51     5\n",
            "175  1.52119  12.97  0.33  1.51  73.39  0.13  11.27  0.00  0.28     5\n"
          ]
        }
      ]
    },
    {
      "cell_type": "code",
      "source": [
        "# посмотрим на значения признаков меньше нижнего уса боксплота:\n",
        "def down_unique (df, columns=[]):\n",
        "  for i in columns:\n",
        "    print(i)\n",
        "    print(df[df[i] < (df[i].quantile(0.25) - 1.5 * (df[i].quantile(0.75) - df[i].quantile(0.25)))])"
      ],
      "metadata": {
        "id": "CQLJGdka1U9X"
      },
      "execution_count": 170,
      "outputs": []
    },
    {
      "cell_type": "code",
      "source": [
        "down_unique(df, ['RI', 'Na', 'Al', 'Si', 'Ca'])"
      ],
      "metadata": {
        "colab": {
          "base_uri": "https://localhost:8080/"
        },
        "id": "h8MlO7271rsD",
        "outputId": "23a29e93-384d-4493-a3ae-d66132a29d2f"
      },
      "execution_count": 171,
      "outputs": [
        {
          "output_type": "stream",
          "name": "stdout",
          "text": [
            "RI\n",
            "          RI     Na    Mg    Al     Si     K    Ca    Ba    Fe  Type\n",
            "56   1.51215  12.99  3.47  1.12  72.98  0.62  8.35  0.00  0.31     1\n",
            "184  1.51115  17.38  0.00  0.34  75.41  0.00  6.65  0.00  0.00     6\n",
            "185  1.51131  13.69  3.20  1.81  72.81  1.76  5.43  1.19  0.00     7\n",
            "Na\n",
            "          RI     Na    Mg    Al     Si     K     Ca    Ba    Fe  Type\n",
            "105  1.52475  11.45  0.00  1.88  72.19  0.81  13.24  0.00  0.34     2\n",
            "106  1.53125  10.73  0.00  2.10  69.81  0.58  13.30  3.15  0.28     2\n",
            "110  1.52664  11.23  0.00  0.77  73.21  0.00  14.68  0.00  0.00     2\n",
            "111  1.52739  11.02  0.00  0.75  73.08  0.00  14.96  0.00  0.00     2\n",
            "166  1.52151  11.03  1.71  1.56  73.44  0.58  11.62  0.00  0.00     5\n",
            "Al\n",
            "          RI     Na    Mg    Al     Si     K     Ca   Ba    Fe  Type\n",
            "21   1.51966  14.77  3.75  0.29  72.02  0.03   9.00  0.0  0.00     1\n",
            "38   1.52213  14.21  3.82  0.47  71.77  0.11   9.57  0.0  0.00     1\n",
            "39   1.52213  14.21  3.82  0.47  71.77  0.11   9.57  0.0  0.00     1\n",
            "50   1.52320  13.72  3.72  0.51  71.75  0.09  10.06  0.0  0.16     1\n",
            "184  1.51115  17.38  0.00  0.34  75.41  0.00   6.65  0.0  0.00     6\n",
            "Si\n",
            "          RI     Na    Mg    Al     Si     K     Ca    Ba    Fe  Type\n",
            "103  1.52725  13.80  3.15  0.66  70.57  0.08  11.64  0.00  0.00     2\n",
            "106  1.53125  10.73  0.00  2.10  69.81  0.58  13.30  3.15  0.28     2\n",
            "107  1.53393  12.30  0.00  1.00  70.16  0.12  16.19  0.00  0.24     2\n",
            "163  1.51514  14.01  2.68  3.50  69.89  1.68   5.87  2.20  0.00     5\n",
            "171  1.51316  13.02  0.00  3.04  70.48  6.21   6.96  0.00  0.00     5\n",
            "172  1.51321  13.00  0.00  3.02  70.70  6.21   6.93  0.00  0.00     5\n",
            "188  1.52247  14.86  2.20  2.06  70.26  0.76   9.76  0.00  0.00     7\n",
            "189  1.52365  15.79  1.83  1.31  70.43  0.31   8.61  1.68  0.00     7\n",
            "Ca\n",
            "          RI     Na    Mg    Al     Si     K    Ca    Ba   Fe  Type\n",
            "163  1.51514  14.01  2.68  3.50  69.89  1.68  5.87  2.20  0.0     5\n",
            "184  1.51115  17.38  0.00  0.34  75.41  0.00  6.65  0.00  0.0     6\n",
            "185  1.51131  13.69  3.20  1.81  72.81  1.76  5.43  1.19  0.0     7\n",
            "186  1.51838  14.32  3.26  2.22  71.25  1.46  5.79  1.63  0.0     7\n",
            "207  1.51831  14.39  0.00  1.82  72.86  1.41  6.47  2.88  0.0     7\n"
          ]
        }
      ]
    },
    {
      "cell_type": "markdown",
      "source": [
        "Возможно значения признаков, выходящие из верхних и нижних границ усов - выбросы. Для того, чтобы окончательно в этом убедиться проверим признаки на выбросы другими методами"
      ],
      "metadata": {
        "id": "zmRiALk4hEl0"
      }
    },
    {
      "cell_type": "markdown",
      "source": [
        "b) Исследуйте признаки на выбросы несколькими способами"
      ],
      "metadata": {
        "id": "DfQry-yuM8DJ"
      }
    },
    {
      "cell_type": "code",
      "source": [
        "# создадим матрицу по двум признакам\n",
        "X1 = np.array(df[['Na', 'Mg']])\n",
        "X1"
      ],
      "metadata": {
        "colab": {
          "base_uri": "https://localhost:8080/"
        },
        "id": "uRBvlcRzRFct",
        "outputId": "1aac13c8-64ac-49b5-97dc-dc2661bf2597"
      },
      "execution_count": 156,
      "outputs": [
        {
          "output_type": "execute_result",
          "data": {
            "text/plain": [
              "array([[13.64,  4.49],\n",
              "       [13.89,  3.6 ],\n",
              "       [13.53,  3.55],\n",
              "       [13.21,  3.69],\n",
              "       [13.27,  3.62],\n",
              "       [12.79,  3.61],\n",
              "       [13.3 ,  3.6 ],\n",
              "       [13.15,  3.61],\n",
              "       [14.04,  3.58],\n",
              "       [13.  ,  3.6 ],\n",
              "       [12.72,  3.46],\n",
              "       [12.8 ,  3.66],\n",
              "       [12.88,  3.43],\n",
              "       [12.86,  3.56],\n",
              "       [12.61,  3.59],\n",
              "       [12.81,  3.54],\n",
              "       [12.68,  3.67],\n",
              "       [14.36,  3.85],\n",
              "       [13.9 ,  3.73],\n",
              "       [13.02,  3.54],\n",
              "       [12.82,  3.55],\n",
              "       [14.77,  3.75],\n",
              "       [12.78,  3.62],\n",
              "       [12.81,  3.57],\n",
              "       [13.38,  3.5 ],\n",
              "       [12.98,  3.54],\n",
              "       [13.21,  3.48],\n",
              "       [12.87,  3.48],\n",
              "       [12.56,  3.52],\n",
              "       [13.08,  3.49],\n",
              "       [12.65,  3.56],\n",
              "       [12.84,  3.5 ],\n",
              "       [12.85,  3.48],\n",
              "       [12.57,  3.47],\n",
              "       [12.69,  3.54],\n",
              "       [13.29,  3.45],\n",
              "       [13.89,  3.53],\n",
              "       [12.74,  3.48],\n",
              "       [14.21,  3.82],\n",
              "       [14.21,  3.82],\n",
              "       [12.79,  3.5 ],\n",
              "       [12.71,  3.42],\n",
              "       [13.21,  3.39],\n",
              "       [13.73,  3.84],\n",
              "       [12.73,  3.43],\n",
              "       [13.49,  3.48],\n",
              "       [13.19,  3.37],\n",
              "       [13.99,  3.7 ],\n",
              "       [13.21,  3.77],\n",
              "       [13.58,  3.35],\n",
              "       [13.72,  3.72],\n",
              "       [13.2 ,  3.33],\n",
              "       [13.43,  2.87],\n",
              "       [13.14,  2.84],\n",
              "       [13.21,  2.81],\n",
              "       [12.45,  2.71],\n",
              "       [12.99,  3.47],\n",
              "       [12.87,  3.48],\n",
              "       [13.48,  3.74],\n",
              "       [13.39,  3.66],\n",
              "       [13.6 ,  3.62],\n",
              "       [13.81,  3.58],\n",
              "       [13.51,  3.86],\n",
              "       [14.17,  3.81],\n",
              "       [13.48,  3.74],\n",
              "       [13.69,  3.59],\n",
              "       [13.05,  3.65],\n",
              "       [13.05,  3.65],\n",
              "       [13.12,  3.58],\n",
              "       [13.31,  3.58],\n",
              "       [14.86,  3.67],\n",
              "       [13.64,  3.87],\n",
              "       [13.09,  3.59],\n",
              "       [13.34,  3.57],\n",
              "       [13.02,  3.56],\n",
              "       [13.02,  3.58],\n",
              "       [13.44,  3.61],\n",
              "       [13.  ,  3.58],\n",
              "       [13.92,  3.52],\n",
              "       [12.82,  3.52],\n",
              "       [12.86,  3.52],\n",
              "       [13.25,  3.45],\n",
              "       [13.41,  3.55],\n",
              "       [13.09,  3.52],\n",
              "       [14.25,  3.09],\n",
              "       [13.36,  3.58],\n",
              "       [13.24,  3.49],\n",
              "       [13.4 ,  3.49],\n",
              "       [13.01,  3.5 ],\n",
              "       [12.55,  3.48],\n",
              "       [12.93,  3.74],\n",
              "       [12.9 ,  3.44],\n",
              "       [13.12,  3.41],\n",
              "       [13.24,  3.34],\n",
              "       [12.71,  3.33],\n",
              "       [13.36,  3.43],\n",
              "       [13.02,  3.62],\n",
              "       [12.2 ,  3.25],\n",
              "       [12.67,  2.88],\n",
              "       [12.96,  2.96],\n",
              "       [12.75,  2.85],\n",
              "       [12.35,  2.72],\n",
              "       [12.62,  2.76],\n",
              "       [13.8 ,  3.15],\n",
              "       [13.83,  2.9 ],\n",
              "       [11.45,  0.  ],\n",
              "       [10.73,  0.  ],\n",
              "       [12.3 ,  0.  ],\n",
              "       [14.43,  0.  ],\n",
              "       [13.72,  0.  ],\n",
              "       [11.23,  0.  ],\n",
              "       [11.02,  0.  ],\n",
              "       [12.64,  0.  ],\n",
              "       [13.46,  3.83],\n",
              "       [13.1 ,  3.97],\n",
              "       [13.41,  3.89],\n",
              "       [13.24,  3.9 ],\n",
              "       [13.72,  3.68],\n",
              "       [13.3 ,  3.64],\n",
              "       [13.56,  3.57],\n",
              "       [13.25,  3.76],\n",
              "       [12.93,  3.54],\n",
              "       [13.23,  3.54],\n",
              "       [13.48,  3.48],\n",
              "       [13.2 ,  3.68],\n",
              "       [12.93,  3.66],\n",
              "       [12.94,  3.61],\n",
              "       [13.78,  2.28],\n",
              "       [13.55,  2.09],\n",
              "       [13.98,  1.35],\n",
              "       [13.75,  1.01],\n",
              "       [13.7 ,  0.  ],\n",
              "       [13.43,  3.98],\n",
              "       [13.71,  3.93],\n",
              "       [13.33,  3.85],\n",
              "       [13.19,  3.9 ],\n",
              "       [13.  ,  3.8 ],\n",
              "       [12.89,  3.62],\n",
              "       [12.79,  3.52],\n",
              "       [12.87,  3.56],\n",
              "       [13.33,  3.54],\n",
              "       [13.2 ,  3.63],\n",
              "       [12.85,  3.51],\n",
              "       [13.  ,  3.47],\n",
              "       [12.99,  3.18],\n",
              "       [12.85,  3.67],\n",
              "       [13.65,  3.66],\n",
              "       [13.33,  3.53],\n",
              "       [13.24,  3.57],\n",
              "       [12.16,  3.52],\n",
              "       [13.14,  3.45],\n",
              "       [14.32,  3.9 ],\n",
              "       [13.64,  3.65],\n",
              "       [13.42,  3.4 ],\n",
              "       [12.86,  3.58],\n",
              "       [13.04,  3.4 ],\n",
              "       [13.41,  3.39],\n",
              "       [14.03,  3.76],\n",
              "       [13.53,  3.41],\n",
              "       [13.5 ,  3.36],\n",
              "       [13.33,  3.34],\n",
              "       [13.64,  3.54],\n",
              "       [14.19,  3.78],\n",
              "       [14.01,  2.68],\n",
              "       [12.73,  1.85],\n",
              "       [11.56,  1.88],\n",
              "       [11.03,  1.71],\n",
              "       [12.64,  0.  ],\n",
              "       [12.86,  0.  ],\n",
              "       [13.27,  0.  ],\n",
              "       [13.44,  0.  ],\n",
              "       [13.02,  0.  ],\n",
              "       [13.  ,  0.  ],\n",
              "       [13.38,  0.  ],\n",
              "       [12.85,  1.61],\n",
              "       [12.97,  0.33],\n",
              "       [14.  ,  2.39],\n",
              "       [13.79,  2.41],\n",
              "       [14.46,  2.24],\n",
              "       [14.09,  2.19],\n",
              "       [14.4 ,  1.74],\n",
              "       [14.99,  0.78],\n",
              "       [14.15,  0.  ],\n",
              "       [14.56,  0.  ],\n",
              "       [17.38,  0.  ],\n",
              "       [13.69,  3.2 ],\n",
              "       [14.32,  3.26],\n",
              "       [13.44,  3.34],\n",
              "       [14.86,  2.2 ],\n",
              "       [15.79,  1.83],\n",
              "       [13.88,  1.78],\n",
              "       [14.85,  0.  ],\n",
              "       [14.2 ,  0.  ],\n",
              "       [14.75,  0.  ],\n",
              "       [14.56,  0.  ],\n",
              "       [14.14,  0.  ],\n",
              "       [13.87,  0.  ],\n",
              "       [14.7 ,  0.  ],\n",
              "       [14.38,  0.  ],\n",
              "       [15.01,  0.  ],\n",
              "       [15.15,  0.  ],\n",
              "       [11.95,  0.  ],\n",
              "       [14.85,  0.  ],\n",
              "       [14.8 ,  0.  ],\n",
              "       [14.95,  0.  ],\n",
              "       [14.95,  0.  ],\n",
              "       [14.94,  0.  ],\n",
              "       [14.39,  0.  ],\n",
              "       [14.37,  0.  ],\n",
              "       [14.14,  0.  ],\n",
              "       [14.92,  0.  ],\n",
              "       [14.36,  0.  ],\n",
              "       [14.38,  0.  ],\n",
              "       [14.23,  0.  ]])"
            ]
          },
          "metadata": {},
          "execution_count": 156
        }
      ]
    },
    {
      "cell_type": "code",
      "execution_count": 157,
      "metadata": {
        "colab": {
          "base_uri": "https://localhost:8080/",
          "height": 822
        },
        "id": "Wg_javl4H-5B",
        "outputId": "1917cb4b-5bc5-456a-9f87-adbb4f240c11"
      },
      "outputs": [
        {
          "output_type": "display_data",
          "data": {
            "text/plain": [
              "<Figure size 1200x900 with 1 Axes>"
            ],
            "image/png": "[encoded data removed]"
          },
          "metadata": {}
        },
        {
          "output_type": "stream",
          "name": "stdout",
          "text": [
            "Получаем разделяющую поверхность, где видны выбросы данных\n"
          ]
        }
      ],
      "source": [
        "# Author: Virgile Fritsch <virgile.fritsch@inria.fr>\n",
        "# License: BSD 3 clause\n",
        "classifiers = {\n",
        "    \"OCSVM\": OneClassSVM(nu=0.1), # nu - % выбросов\n",
        "    \"IsoForest\": IsolationForest(),\n",
        "    \"ELL\": EllipticEnvelope(contamination=0.2),\n",
        "    \"LOF\": LocalOutlierFactor(novelty=True)\n",
        "}\n",
        "colors = ['m', 'g', 'b', 'y']\n",
        "legend1 = {}\n",
        "legend2 = {}\n",
        "\n",
        "\n",
        "# Выделяем границы обнаружения выбросов с помощью нескольких классификаторов\n",
        "# метод meshgrid используется для красивой отрисовки\n",
        "xx1, yy1 = np.meshgrid(np.linspace(0, 30, 500), np.linspace(0, 5, 500))\n",
        "for i, (clf_name, clf) in enumerate(classifiers.items()):\n",
        "    plt.figure(1, figsize=(12,9))\n",
        "    clf.fit(X1)\n",
        "    Z1 = clf.decision_function(np.c_[xx1.ravel(), yy1.ravel()])\n",
        "    Z1 = Z1.reshape(xx1.shape)\n",
        "    legend1[clf_name] = plt.contour(\n",
        "        xx1, yy1, Z1, levels=[0], linewidths=2, colors=colors[i])\n",
        "\n",
        "legend1_values_list = list(legend1.values())\n",
        "legend1_keys_list = list(legend1.keys())\n",
        "\n",
        "# Отрисовка результатов (= форма облака точек данных)\n",
        "plt.figure(1, figsize=(12,9))  # 2 кластера\n",
        "plt.title(\"Обнаружение выбросов в наборе данных по стеклу\")\n",
        "plt.scatter(X1[:, 0], X1[:, 1], color='black')\n",
        "\n",
        "plt.xlim((xx1.min(), xx1.max()))\n",
        "plt.ylim((yy1.min(), yy1.max()))\n",
        "plt.legend((legend1_values_list[0].collections[0], legend1_values_list[1].collections[0], legend1_values_list[2].collections[0], legend1_values_list[3].collections[0],),\n",
        "           (legend1_keys_list[0], legend1_keys_list[1], legend1_keys_list[2], legend1_keys_list[3],),\n",
        "           loc=\"upper center\",\n",
        "           prop=matplotlib.font_manager.FontProperties(size=11))\n",
        "plt.ylabel('Mg')\n",
        "plt.xlabel('Na')\n",
        "plt.show()\n",
        "print('Получаем разделяющую поверхность, где видны выбросы данных')"
      ]
    },
    {
      "cell_type": "markdown",
      "source": [
        "Явных выбросов в этих двух признаках не обнаружено"
      ],
      "metadata": {
        "id": "LY8vkNQhwf6y"
      }
    },
    {
      "cell_type": "markdown",
      "source": [
        "Попробуем другие признаки"
      ],
      "metadata": {
        "id": "Q_iC0u9Nrlrl"
      }
    },
    {
      "cell_type": "code",
      "source": [
        "# создадим матрицу по двум признакам\n",
        "X1 = np.array(df[['Al', 'Si']])\n",
        "X1"
      ],
      "metadata": {
        "colab": {
          "base_uri": "https://localhost:8080/"
        },
        "outputId": "cf586c8a-d511-4bd0-e24a-c6667da80b1b",
        "id": "arZuan1Hva53"
      },
      "execution_count": 160,
      "outputs": [
        {
          "output_type": "execute_result",
          "data": {
            "text/plain": [
              "array([[ 1.1 , 71.78],\n",
              "       [ 1.36, 72.73],\n",
              "       [ 1.54, 72.99],\n",
              "       [ 1.29, 72.61],\n",
              "       [ 1.24, 73.08],\n",
              "       [ 1.62, 72.97],\n",
              "       [ 1.14, 73.09],\n",
              "       [ 1.05, 73.24],\n",
              "       [ 1.37, 72.08],\n",
              "       [ 1.36, 72.99],\n",
              "       [ 1.56, 73.2 ],\n",
              "       [ 1.27, 73.01],\n",
              "       [ 1.4 , 73.28],\n",
              "       [ 1.27, 73.21],\n",
              "       [ 1.31, 73.29],\n",
              "       [ 1.23, 73.24],\n",
              "       [ 1.16, 73.11],\n",
              "       [ 0.89, 71.36],\n",
              "       [ 1.18, 72.12],\n",
              "       [ 1.69, 72.73],\n",
              "       [ 1.49, 72.75],\n",
              "       [ 0.29, 72.02],\n",
              "       [ 1.29, 72.79],\n",
              "       [ 1.35, 73.02],\n",
              "       [ 1.15, 72.85],\n",
              "       [ 1.21, 73.  ],\n",
              "       [ 1.41, 72.64],\n",
              "       [ 1.33, 73.04],\n",
              "       [ 1.43, 73.15],\n",
              "       [ 1.28, 72.86],\n",
              "       [ 1.3 , 73.08],\n",
              "       [ 1.14, 73.27],\n",
              "       [ 1.23, 72.97],\n",
              "       [ 1.38, 73.39],\n",
              "       [ 1.34, 72.95],\n",
              "       [ 1.21, 72.74],\n",
              "       [ 1.32, 71.81],\n",
              "       [ 1.35, 72.96],\n",
              "       [ 0.47, 71.77],\n",
              "       [ 0.47, 71.77],\n",
              "       [ 1.12, 73.03],\n",
              "       [ 1.2 , 73.2 ],\n",
              "       [ 1.33, 72.76],\n",
              "       [ 0.72, 71.76],\n",
              "       [ 1.19, 72.95],\n",
              "       [ 1.35, 71.95],\n",
              "       [ 1.18, 72.72],\n",
              "       [ 0.71, 71.57],\n",
              "       [ 0.79, 71.99],\n",
              "       [ 1.23, 72.08],\n",
              "       [ 0.51, 71.75],\n",
              "       [ 1.28, 72.36],\n",
              "       [ 1.19, 72.84],\n",
              "       [ 1.28, 72.85],\n",
              "       [ 1.29, 72.98],\n",
              "       [ 1.29, 73.7 ],\n",
              "       [ 1.12, 72.98],\n",
              "       [ 1.29, 72.95],\n",
              "       [ 1.17, 72.99],\n",
              "       [ 1.19, 72.79],\n",
              "       [ 1.11, 72.64],\n",
              "       [ 1.32, 71.72],\n",
              "       [ 0.88, 71.79],\n",
              "       [ 0.78, 71.35],\n",
              "       [ 0.9 , 72.01],\n",
              "       [ 1.12, 71.96],\n",
              "       [ 0.87, 72.22],\n",
              "       [ 0.87, 72.32],\n",
              "       [ 0.9 , 72.2 ],\n",
              "       [ 0.82, 71.99],\n",
              "       [ 1.74, 71.87],\n",
              "       [ 1.27, 71.96],\n",
              "       [ 1.52, 73.1 ],\n",
              "       [ 1.57, 72.87],\n",
              "       [ 1.54, 73.11],\n",
              "       [ 1.51, 73.12],\n",
              "       [ 1.54, 72.39],\n",
              "       [ 1.54, 72.83],\n",
              "       [ 1.25, 72.88],\n",
              "       [ 1.9 , 72.86],\n",
              "       [ 2.12, 72.66],\n",
              "       [ 1.43, 73.17],\n",
              "       [ 1.25, 72.81],\n",
              "       [ 1.55, 72.87],\n",
              "       [ 2.08, 72.28],\n",
              "       [ 1.49, 72.72],\n",
              "       [ 1.47, 73.25],\n",
              "       [ 1.52, 72.65],\n",
              "       [ 1.48, 72.89],\n",
              "       [ 1.87, 73.23],\n",
              "       [ 1.11, 72.28],\n",
              "       [ 1.45, 73.06],\n",
              "       [ 1.58, 73.26],\n",
              "       [ 1.47, 73.1 ],\n",
              "       [ 1.49, 73.28],\n",
              "       [ 1.43, 72.26],\n",
              "       [ 1.06, 72.34],\n",
              "       [ 1.16, 73.55],\n",
              "       [ 1.71, 73.21],\n",
              "       [ 1.43, 72.92],\n",
              "       [ 1.44, 73.27],\n",
              "       [ 1.63, 72.87],\n",
              "       [ 0.83, 73.81],\n",
              "       [ 0.66, 70.57],\n",
              "       [ 1.17, 71.15],\n",
              "       [ 1.88, 72.19],\n",
              "       [ 2.1 , 69.81],\n",
              "       [ 1.  , 70.16],\n",
              "       [ 1.  , 72.67],\n",
              "       [ 0.56, 74.45],\n",
              "       [ 0.77, 73.21],\n",
              "       [ 0.75, 73.08],\n",
              "       [ 0.67, 72.02],\n",
              "       [ 1.26, 72.55],\n",
              "       [ 1.19, 72.44],\n",
              "       [ 1.33, 72.38],\n",
              "       [ 1.41, 72.33],\n",
              "       [ 1.81, 72.06],\n",
              "       [ 1.53, 72.53],\n",
              "       [ 1.47, 72.45],\n",
              "       [ 1.32, 72.4 ],\n",
              "       [ 1.62, 72.96],\n",
              "       [ 1.48, 72.84],\n",
              "       [ 1.71, 72.52],\n",
              "       [ 1.15, 72.75],\n",
              "       [ 1.56, 72.51],\n",
              "       [ 1.26, 72.75],\n",
              "       [ 1.43, 71.99],\n",
              "       [ 1.67, 72.18],\n",
              "       [ 1.63, 71.76],\n",
              "       [ 1.36, 72.19],\n",
              "       [ 1.36, 71.24],\n",
              "       [ 1.18, 72.49],\n",
              "       [ 1.54, 71.81],\n",
              "       [ 1.25, 72.78],\n",
              "       [ 1.3 , 72.33],\n",
              "       [ 1.08, 73.07],\n",
              "       [ 1.57, 72.96],\n",
              "       [ 1.54, 73.36],\n",
              "       [ 1.64, 73.14],\n",
              "       [ 1.61, 72.54],\n",
              "       [ 1.07, 72.83],\n",
              "       [ 1.44, 73.01],\n",
              "       [ 1.79, 72.72],\n",
              "       [ 1.23, 72.97],\n",
              "       [ 1.24, 72.57],\n",
              "       [ 1.11, 72.77],\n",
              "       [ 1.34, 72.67],\n",
              "       [ 1.38, 72.7 ],\n",
              "       [ 1.35, 72.89],\n",
              "       [ 1.76, 72.48],\n",
              "       [ 0.83, 71.5 ],\n",
              "       [ 0.65, 73.  ],\n",
              "       [ 1.22, 72.69],\n",
              "       [ 1.31, 72.61],\n",
              "       [ 1.26, 73.01],\n",
              "       [ 1.28, 72.64],\n",
              "       [ 0.58, 71.79],\n",
              "       [ 1.52, 72.04],\n",
              "       [ 1.63, 71.94],\n",
              "       [ 1.54, 72.14],\n",
              "       [ 0.75, 72.65],\n",
              "       [ 0.91, 71.36],\n",
              "       [ 3.5 , 69.89],\n",
              "       [ 1.86, 72.69],\n",
              "       [ 1.56, 72.86],\n",
              "       [ 1.56, 73.44],\n",
              "       [ 1.65, 73.75],\n",
              "       [ 1.83, 73.88],\n",
              "       [ 1.76, 73.03],\n",
              "       [ 1.58, 72.22],\n",
              "       [ 3.04, 70.48],\n",
              "       [ 3.02, 70.7 ],\n",
              "       [ 1.4 , 72.25],\n",
              "       [ 2.17, 72.18],\n",
              "       [ 1.51, 73.39],\n",
              "       [ 1.56, 72.37],\n",
              "       [ 1.19, 72.76],\n",
              "       [ 1.62, 72.38],\n",
              "       [ 1.66, 72.67],\n",
              "       [ 1.54, 74.55],\n",
              "       [ 1.74, 72.5 ],\n",
              "       [ 2.09, 72.74],\n",
              "       [ 0.56, 73.48],\n",
              "       [ 0.34, 75.41],\n",
              "       [ 1.81, 72.81],\n",
              "       [ 2.22, 71.25],\n",
              "       [ 1.23, 72.38],\n",
              "       [ 2.06, 70.26],\n",
              "       [ 1.31, 70.43],\n",
              "       [ 1.79, 73.1 ],\n",
              "       [ 2.38, 73.28],\n",
              "       [ 2.79, 73.46],\n",
              "       [ 2.  , 73.02],\n",
              "       [ 1.98, 73.29],\n",
              "       [ 2.68, 73.39],\n",
              "       [ 2.54, 73.23],\n",
              "       [ 2.34, 73.28],\n",
              "       [ 2.66, 73.1 ],\n",
              "       [ 2.51, 73.05],\n",
              "       [ 2.25, 73.5 ],\n",
              "       [ 1.19, 75.18],\n",
              "       [ 2.42, 73.72],\n",
              "       [ 1.99, 73.11],\n",
              "       [ 2.27, 73.3 ],\n",
              "       [ 1.8 , 72.99],\n",
              "       [ 1.87, 73.11],\n",
              "       [ 1.82, 72.86],\n",
              "       [ 2.74, 72.85],\n",
              "       [ 2.88, 72.61],\n",
              "       [ 1.99, 73.06],\n",
              "       [ 2.02, 73.42],\n",
              "       [ 1.94, 73.61],\n",
              "       [ 2.08, 73.36]])"
            ]
          },
          "metadata": {},
          "execution_count": 160
        }
      ]
    },
    {
      "cell_type": "code",
      "execution_count": 161,
      "metadata": {
        "colab": {
          "base_uri": "https://localhost:8080/",
          "height": 822
        },
        "outputId": "457343e9-b831-4232-a0dd-97b8129ce971",
        "id": "S1pebaV5va55"
      },
      "outputs": [
        {
          "output_type": "display_data",
          "data": {
            "text/plain": [
              "<Figure size 1200x900 with 1 Axes>"
            ],
            "image/png": "[encoded data removed]"
          },
          "metadata": {}
        },
        {
          "output_type": "stream",
          "name": "stdout",
          "text": [
            "Получаем разделяющую поверхность, где видны выбросы данных\n"
          ]
        }
      ],
      "source": [
        "# Author: Virgile Fritsch <virgile.fritsch@inria.fr>\n",
        "# License: BSD 3 clause\n",
        "classifiers = {\n",
        "    \"OCSVM\": OneClassSVM(nu=0.1), # nu - % выбросов\n",
        "    \"IsoForest\": IsolationForest(),\n",
        "    \"ELL\": EllipticEnvelope(contamination=0.2),\n",
        "    \"LOF\": LocalOutlierFactor(novelty=True)\n",
        "}\n",
        "colors = ['m', 'g', 'b', 'y']\n",
        "legend1 = {}\n",
        "legend2 = {}\n",
        "\n",
        "\n",
        "# Выделяем границы обнаружения выбросов с помощью нескольких классификаторов\n",
        "# метод meshgrid используется для красивой отрисовки\n",
        "xx1, yy1 = np.meshgrid(np.linspace(0, 5, 500), np.linspace(70, 75, 500))\n",
        "for i, (clf_name, clf) in enumerate(classifiers.items()):\n",
        "    plt.figure(1, figsize=(12,9))\n",
        "    clf.fit(X1)\n",
        "    Z1 = clf.decision_function(np.c_[xx1.ravel(), yy1.ravel()])\n",
        "    Z1 = Z1.reshape(xx1.shape)\n",
        "    legend1[clf_name] = plt.contour(\n",
        "        xx1, yy1, Z1, levels=[0], linewidths=2, colors=colors[i])\n",
        "\n",
        "legend1_values_list = list(legend1.values())\n",
        "legend1_keys_list = list(legend1.keys())\n",
        "\n",
        "# Отрисовка результатов (= форма облака точек данных)\n",
        "plt.figure(1, figsize=(12,9))  # 2 кластера\n",
        "plt.title(\"Обнаружение выбросов в наборе данных по стеклу\")\n",
        "plt.scatter(X1[:, 0], X1[:, 1], color='black')\n",
        "\n",
        "plt.xlim((xx1.min(), xx1.max()))\n",
        "plt.ylim((yy1.min(), yy1.max()))\n",
        "plt.legend((legend1_values_list[0].collections[0], legend1_values_list[1].collections[0], legend1_values_list[2].collections[0], legend1_values_list[3].collections[0],),\n",
        "           (legend1_keys_list[0], legend1_keys_list[1], legend1_keys_list[2], legend1_keys_list[3],),\n",
        "           loc=\"upper center\",\n",
        "           prop=matplotlib.font_manager.FontProperties(size=11))\n",
        "plt.ylabel('Si')\n",
        "plt.xlabel('Al')\n",
        "plt.show()\n",
        "print('Получаем разделяющую поверхность, где видны выбросы данных')"
      ]
    },
    {
      "cell_type": "markdown",
      "source": [
        "Имеются выбросы, попробуем их удалить"
      ],
      "metadata": {
        "id": "fWBZNLE8rNxa"
      }
    },
    {
      "cell_type": "markdown",
      "source": [
        "Попробуем другие признаки"
      ],
      "metadata": {
        "id": "ehQr8866x43j"
      }
    },
    {
      "cell_type": "code",
      "source": [
        "# создадим матрицу по двум признакам\n",
        "X1 = np.array(df[['K', 'Ca']])\n",
        "X1"
      ],
      "metadata": {
        "colab": {
          "base_uri": "https://localhost:8080/"
        },
        "outputId": "39359601-4741-4fff-f3fd-bd2a751bc41e",
        "id": "JDv552xfw93X"
      },
      "execution_count": 162,
      "outputs": [
        {
          "output_type": "execute_result",
          "data": {
            "text/plain": [
              "array([[ 0.06,  8.75],\n",
              "       [ 0.48,  7.83],\n",
              "       [ 0.39,  7.78],\n",
              "       [ 0.57,  8.22],\n",
              "       [ 0.55,  8.07],\n",
              "       [ 0.64,  8.07],\n",
              "       [ 0.58,  8.17],\n",
              "       [ 0.57,  8.24],\n",
              "       [ 0.56,  8.3 ],\n",
              "       [ 0.57,  8.4 ],\n",
              "       [ 0.67,  8.09],\n",
              "       [ 0.6 ,  8.56],\n",
              "       [ 0.69,  8.05],\n",
              "       [ 0.54,  8.38],\n",
              "       [ 0.58,  8.5 ],\n",
              "       [ 0.58,  8.39],\n",
              "       [ 0.61,  8.7 ],\n",
              "       [ 0.15,  9.15],\n",
              "       [ 0.06,  8.89],\n",
              "       [ 0.54,  8.44],\n",
              "       [ 0.54,  8.52],\n",
              "       [ 0.03,  9.  ],\n",
              "       [ 0.59,  8.7 ],\n",
              "       [ 0.62,  8.59],\n",
              "       [ 0.5 ,  8.43],\n",
              "       [ 0.65,  8.53],\n",
              "       [ 0.59,  8.43],\n",
              "       [ 0.56,  8.43],\n",
              "       [ 0.57,  8.54],\n",
              "       [ 0.6 ,  8.49],\n",
              "       [ 0.61,  8.69],\n",
              "       [ 0.56,  8.55],\n",
              "       [ 0.61,  8.56],\n",
              "       [ 0.6 ,  8.55],\n",
              "       [ 0.57,  8.75],\n",
              "       [ 0.56,  8.57],\n",
              "       [ 0.51,  8.78],\n",
              "       [ 0.64,  8.68],\n",
              "       [ 0.11,  9.57],\n",
              "       [ 0.11,  9.57],\n",
              "       [ 0.64,  8.77],\n",
              "       [ 0.59,  8.64],\n",
              "       [ 0.59,  8.59],\n",
              "       [ 0.17,  9.74],\n",
              "       [ 0.62,  8.76],\n",
              "       [ 0.55,  9.  ],\n",
              "       [ 0.57,  8.83],\n",
              "       [ 0.02,  9.82],\n",
              "       [ 0.13, 10.02],\n",
              "       [ 0.59,  8.91],\n",
              "       [ 0.09, 10.06],\n",
              "       [ 0.6 ,  9.14],\n",
              "       [ 0.55,  9.03],\n",
              "       [ 0.55,  9.07],\n",
              "       [ 0.51,  9.02],\n",
              "       [ 0.56,  9.06],\n",
              "       [ 0.62,  8.35],\n",
              "       [ 0.6 ,  8.43],\n",
              "       [ 0.59,  8.03],\n",
              "       [ 0.57,  8.27],\n",
              "       [ 0.14,  8.76],\n",
              "       [ 0.12,  8.67],\n",
              "       [ 0.23,  9.54],\n",
              "       [ 0.  ,  9.69],\n",
              "       [ 0.18,  9.61],\n",
              "       [ 0.09,  9.4 ],\n",
              "       [ 0.19,  9.85],\n",
              "       [ 0.19,  9.85],\n",
              "       [ 0.23,  9.82],\n",
              "       [ 0.12, 10.17],\n",
              "       [ 0.16,  7.36],\n",
              "       [ 0.54,  8.32],\n",
              "       [ 0.67,  7.83],\n",
              "       [ 0.61,  7.89],\n",
              "       [ 0.72,  7.9 ],\n",
              "       [ 0.69,  7.96],\n",
              "       [ 0.66,  8.03],\n",
              "       [ 0.61,  8.04],\n",
              "       [ 0.37,  7.94],\n",
              "       [ 0.69,  7.97],\n",
              "       [ 0.69,  7.97],\n",
              "       [ 0.61,  7.86],\n",
              "       [ 0.68,  8.1 ],\n",
              "       [ 0.68,  8.05],\n",
              "       [ 1.1 ,  7.08],\n",
              "       [ 0.45,  8.21],\n",
              "       [ 0.38,  8.03],\n",
              "       [ 0.67,  8.08],\n",
              "       [ 0.6 ,  8.12],\n",
              "       [ 0.63,  8.08],\n",
              "       [ 0.64,  8.96],\n",
              "       [ 0.44,  8.27],\n",
              "       [ 0.07,  8.39],\n",
              "       [ 0.39,  8.22],\n",
              "       [ 0.67,  8.24],\n",
              "       [ 0.51,  8.6 ],\n",
              "       [ 0.64,  9.13],\n",
              "       [ 0.62,  8.9 ],\n",
              "       [ 0.73,  8.54],\n",
              "       [ 0.6 ,  8.79],\n",
              "       [ 0.57,  8.79],\n",
              "       [ 0.7 ,  9.23],\n",
              "       [ 0.35,  9.42],\n",
              "       [ 0.08, 11.64],\n",
              "       [ 0.08, 10.79],\n",
              "       [ 0.81, 13.24],\n",
              "       [ 0.58, 13.3 ],\n",
              "       [ 0.12, 16.19],\n",
              "       [ 0.1 , 11.52],\n",
              "       [ 0.  , 10.99],\n",
              "       [ 0.  , 14.68],\n",
              "       [ 0.  , 14.96],\n",
              "       [ 0.06, 14.4 ],\n",
              "       [ 0.57,  8.21],\n",
              "       [ 0.6 ,  8.43],\n",
              "       [ 0.51,  8.28],\n",
              "       [ 0.55,  8.31],\n",
              "       [ 0.64,  7.88],\n",
              "       [ 0.65,  8.03],\n",
              "       [ 0.64,  7.96],\n",
              "       [ 0.58,  8.42],\n",
              "       [ 0.64,  8.03],\n",
              "       [ 0.56,  8.1 ],\n",
              "       [ 0.62,  7.99],\n",
              "       [ 0.54,  8.52],\n",
              "       [ 0.58,  8.55],\n",
              "       [ 0.56,  8.6 ],\n",
              "       [ 0.49,  9.85],\n",
              "       [ 0.53,  9.57],\n",
              "       [ 0.39, 10.56],\n",
              "       [ 0.33, 11.14],\n",
              "       [ 0.19, 13.44],\n",
              "       [ 0.58,  8.15],\n",
              "       [ 0.54,  8.21],\n",
              "       [ 0.52,  8.12],\n",
              "       [ 0.55,  8.44],\n",
              "       [ 0.56,  8.38],\n",
              "       [ 0.61,  8.11],\n",
              "       [ 0.66,  7.9 ],\n",
              "       [ 0.65,  7.99],\n",
              "       [ 0.68,  8.11],\n",
              "       [ 0.57,  8.41],\n",
              "       [ 0.68,  8.23],\n",
              "       [ 0.66,  8.18],\n",
              "       [ 0.58,  8.81],\n",
              "       [ 0.62,  8.68],\n",
              "       [ 0.11,  8.6 ],\n",
              "       [ 0.56,  8.33],\n",
              "       [ 0.56,  8.44],\n",
              "       [ 0.57,  8.53],\n",
              "       [ 0.6 ,  8.38],\n",
              "       [ 0.  ,  9.49],\n",
              "       [ 0.06,  8.93],\n",
              "       [ 0.59,  8.32],\n",
              "       [ 0.61,  8.79],\n",
              "       [ 0.52,  8.58],\n",
              "       [ 0.52,  8.65],\n",
              "       [ 0.11,  9.65],\n",
              "       [ 0.58,  8.79],\n",
              "       [ 0.57,  8.81],\n",
              "       [ 0.56,  8.99],\n",
              "       [ 0.16,  8.89],\n",
              "       [ 0.23,  9.14],\n",
              "       [ 1.68,  5.87],\n",
              "       [ 0.6 , 10.09],\n",
              "       [ 0.47, 11.41],\n",
              "       [ 0.58, 11.62],\n",
              "       [ 0.38, 11.53],\n",
              "       [ 0.97, 10.17],\n",
              "       [ 0.47, 11.32],\n",
              "       [ 0.32, 12.24],\n",
              "       [ 6.21,  6.96],\n",
              "       [ 6.21,  6.93],\n",
              "       [ 0.33, 12.5 ],\n",
              "       [ 0.76,  9.7 ],\n",
              "       [ 0.13, 11.27],\n",
              "       [ 0.  ,  9.57],\n",
              "       [ 0.  ,  9.77],\n",
              "       [ 0.  ,  9.26],\n",
              "       [ 0.  ,  9.32],\n",
              "       [ 0.  ,  7.59],\n",
              "       [ 0.  ,  9.95],\n",
              "       [ 0.  , 10.88],\n",
              "       [ 0.  , 11.22],\n",
              "       [ 0.  ,  6.65],\n",
              "       [ 1.76,  5.43],\n",
              "       [ 1.46,  5.79],\n",
              "       [ 0.6 ,  8.83],\n",
              "       [ 0.76,  9.76],\n",
              "       [ 0.31,  8.61],\n",
              "       [ 0.  ,  8.67],\n",
              "       [ 0.  ,  8.76],\n",
              "       [ 0.04,  9.04],\n",
              "       [ 0.  ,  8.53],\n",
              "       [ 0.  ,  8.52],\n",
              "       [ 0.08,  9.07],\n",
              "       [ 0.14,  9.41],\n",
              "       [ 0.  ,  8.95],\n",
              "       [ 0.04,  9.08],\n",
              "       [ 0.05,  8.83],\n",
              "       [ 0.  ,  8.34],\n",
              "       [ 2.7 ,  8.93],\n",
              "       [ 0.  ,  8.39],\n",
              "       [ 0.  ,  8.28],\n",
              "       [ 0.  ,  8.71],\n",
              "       [ 0.  ,  8.61],\n",
              "       [ 0.  ,  8.67],\n",
              "       [ 1.41,  6.47],\n",
              "       [ 0.  ,  9.45],\n",
              "       [ 0.08,  9.18],\n",
              "       [ 0.  ,  8.4 ],\n",
              "       [ 0.  ,  8.44],\n",
              "       [ 0.  ,  8.48],\n",
              "       [ 0.  ,  8.62]])"
            ]
          },
          "metadata": {},
          "execution_count": 162
        }
      ]
    },
    {
      "cell_type": "code",
      "execution_count": 163,
      "metadata": {
        "colab": {
          "base_uri": "https://localhost:8080/",
          "height": 822
        },
        "outputId": "8d522d5e-1c1a-471a-e8db-3c7f6fd6f4a2",
        "id": "54kVhK1Bw93r"
      },
      "outputs": [
        {
          "output_type": "display_data",
          "data": {
            "text/plain": [
              "<Figure size 1200x900 with 1 Axes>"
            ],
            "image/png": "[encoded data removed]"
          },
          "metadata": {}
        },
        {
          "output_type": "stream",
          "name": "stdout",
          "text": [
            "Получаем разделяющую поверхность, где видны выбросы данных\n"
          ]
        }
      ],
      "source": [
        "# Author: Virgile Fritsch <virgile.fritsch@inria.fr>\n",
        "# License: BSD 3 clause\n",
        "classifiers = {\n",
        "    \"OCSVM\": OneClassSVM(nu=0.1), # nu - % выбросов\n",
        "    \"IsoForest\": IsolationForest(),\n",
        "    \"ELL\": EllipticEnvelope(contamination=0.2),\n",
        "    \"LOF\": LocalOutlierFactor(novelty=True)\n",
        "}\n",
        "colors = ['m', 'g', 'b', 'y']\n",
        "legend1 = {}\n",
        "legend2 = {}\n",
        "\n",
        "\n",
        "# Выделяем границы обнаружения выбросов с помощью нескольких классификаторов\n",
        "# метод meshgrid используется для красивой отрисовки\n",
        "xx1, yy1 = np.meshgrid(np.linspace(0, 2, 500), np.linspace(6, 15, 500))\n",
        "for i, (clf_name, clf) in enumerate(classifiers.items()):\n",
        "    plt.figure(1, figsize=(12,9))\n",
        "    clf.fit(X1)\n",
        "    Z1 = clf.decision_function(np.c_[xx1.ravel(), yy1.ravel()])\n",
        "    Z1 = Z1.reshape(xx1.shape)\n",
        "    legend1[clf_name] = plt.contour(\n",
        "        xx1, yy1, Z1, levels=[0], linewidths=2, colors=colors[i])\n",
        "\n",
        "legend1_values_list = list(legend1.values())\n",
        "legend1_keys_list = list(legend1.keys())\n",
        "\n",
        "# Отрисовка результатов (= форма облака точек данных)\n",
        "plt.figure(1, figsize=(12,9))  # 2 кластера\n",
        "plt.title(\"Обнаружение выбросов в наборе данных по стеклу\")\n",
        "plt.scatter(X1[:, 0], X1[:, 1], color='black')\n",
        "\n",
        "plt.xlim((xx1.min(), xx1.max()))\n",
        "plt.ylim((yy1.min(), yy1.max()))\n",
        "plt.legend((legend1_values_list[0].collections[0], legend1_values_list[1].collections[0], legend1_values_list[2].collections[0], legend1_values_list[3].collections[0],),\n",
        "           (legend1_keys_list[0], legend1_keys_list[1], legend1_keys_list[2], legend1_keys_list[3],),\n",
        "           loc=\"upper center\",\n",
        "           prop=matplotlib.font_manager.FontProperties(size=11))\n",
        "plt.ylabel('Ca')\n",
        "plt.xlabel('K')\n",
        "plt.show()\n",
        "print('Получаем разделяющую поверхность, где видны выбросы данных')"
      ]
    },
    {
      "cell_type": "markdown",
      "source": [
        "Используя данный метод, наглядно были найдены выбросы в данных. Учитывая результаты построения боксплотов и данного метода, удалим выбросы"
      ],
      "metadata": {
        "id": "316ynd3hyW0G"
      }
    },
    {
      "cell_type": "markdown",
      "source": [
        "c) Удалите выбросы. *Посчитайте процент удаленных записей от общего числа записей для каждого класса"
      ],
      "metadata": {
        "id": "82Zl2zmDNEFo"
      }
    },
    {
      "cell_type": "code",
      "source": [
        "# удалим выбросы исходя из полученных результатов\n",
        "df_2 = df[\n",
        "    (df['RI'] < (df['RI'].quantile(0.75) + 1.5 * (df['RI'].quantile(0.75) - df['RI'].quantile(0.25)))) &\n",
        "    (df['RI'] > (df['RI'].quantile(0.25) - 1.5 * (df['RI'].quantile(0.75) - df['RI'].quantile(0.25)))) &\n",
        "    (df['Na'] < (df['Na'].quantile(0.75) + 1.5 * (df['Na'].quantile(0.75) - df['Na'].quantile(0.25)))) &\n",
        "    (df['Na'] > (df['Na'].quantile(0.25) - 1.5 * (df['Na'].quantile(0.75) - df['Na'].quantile(0.25)))) &\n",
        "    (df['Al'] < (df['Al'].quantile(0.75) + 1.5 * (df['Al'].quantile(0.75) - df['Al'].quantile(0.25)))) &\n",
        "    (df['Al'] > (df['Al'].quantile(0.25) - 1.5 * (df['Al'].quantile(0.75) - df['Al'].quantile(0.25)))) &\n",
        "    (df['Si'] < (df['Si'].quantile(0.75) + 1.5 * (df['Si'].quantile(0.75) - df['Si'].quantile(0.25)))) &\n",
        "    (df['Si'] > (df['Si'].quantile(0.25) - 1.5 * (df['Si'].quantile(0.75) - df['Si'].quantile(0.25)))) &\n",
        "    (df['K'] < (df['K'].quantile(0.75) + 1.5 * (df['K'].quantile(0.75) - df['K'].quantile(0.25)))) &\n",
        "    (df['Ca'] < (df['Ca'].quantile(0.75) + 1.5 * (df['Ca'].quantile(0.75) - df['Ca'].quantile(0.25)))) &\n",
        "    (df['Ca'] > (df['Ca'].quantile(0.25) - 1.5 * (df['Ca'].quantile(0.75) - df['Ca'].quantile(0.25)))) &\n",
        "    (df['Fe'] < (df['Fe'].quantile(0.75) + 1.5 * (df['Fe'].quantile(0.75) - df['Fe'].quantile(0.25))))\n",
        "]"
      ],
      "metadata": {
        "id": "xk5Syz_0MxvM"
      },
      "execution_count": 178,
      "outputs": []
    },
    {
      "cell_type": "code",
      "source": [
        "df_2.shape"
      ],
      "metadata": {
        "colab": {
          "base_uri": "https://localhost:8080/"
        },
        "id": "t7r0AcqX8LfA",
        "outputId": "b772795a-9bfa-440b-975e-a98c6245c0ae"
      },
      "execution_count": 179,
      "outputs": [
        {
          "output_type": "execute_result",
          "data": {
            "text/plain": [
              "(156, 10)"
            ]
          },
          "metadata": {},
          "execution_count": 179
        }
      ]
    },
    {
      "cell_type": "markdown",
      "source": [
        "После удаления получился датафрейм на 156 записей против 214 изначальных. Найдем процент удаленных записей для каждого класса."
      ],
      "metadata": {
        "id": "YUp3Kmjb8WX-"
      }
    },
    {
      "cell_type": "code",
      "source": [
        "# процент удаления выбросов\n",
        "((df.shape[0] - df_2.shape[0]) / df.shape[0]) * 100"
      ],
      "metadata": {
        "colab": {
          "base_uri": "https://localhost:8080/"
        },
        "id": "LCnCXYeN8ebE",
        "outputId": "479358a2-7129-43d4-b6e4-a1ea7934d0fc"
      },
      "execution_count": 180,
      "outputs": [
        {
          "output_type": "execute_result",
          "data": {
            "text/plain": [
              "27.102803738317753"
            ]
          },
          "metadata": {},
          "execution_count": 180
        }
      ]
    },
    {
      "cell_type": "code",
      "source": [
        "# процент удаления выбросов для каждого типа стекла\n",
        "print('Тип 1: ', (len(df[df.Type == 1]) - len(df_2[df_2.Type == 1]))/len(df[df.Type == 1]) * 100)\n",
        "print('Тип 2: ', (len(df[df.Type == 2]) - len(df_2[df_2.Type == 2]))/len(df[df.Type == 2]) * 100)\n",
        "print('Тип 3: ', (len(df[df.Type == 3]) - len(df_2[df_2.Type == 3]))/len(df[df.Type == 3]) * 100)\n",
        "print('Тип 5: ', (len(df[df.Type == 5]) - len(df_2[df_2.Type == 5]))/len(df[df.Type == 5]) * 100)\n",
        "print('Тип 6: ', (len(df[df.Type == 6]) - len(df_2[df_2.Type == 6]))/len(df[df.Type == 6]) * 100)\n",
        "print('Тип 7: ', (len(df[df.Type == 7]) - len(df_2[df_2.Type == 7]))/len(df[df.Type == 7]) * 100)"
      ],
      "metadata": {
        "colab": {
          "base_uri": "https://localhost:8080/"
        },
        "id": "nHxTWFJj-ewo",
        "outputId": "1c3c831e-b961-4695-99de-9545d5993e76"
      },
      "execution_count": 196,
      "outputs": [
        {
          "output_type": "stream",
          "name": "stdout",
          "text": [
            "Тип 1:  11.428571428571429\n",
            "Тип 2:  22.36842105263158\n",
            "Тип 3:  5.88235294117647\n",
            "Тип 5:  84.61538461538461\n",
            "Тип 6:  44.44444444444444\n",
            "Тип 7:  58.620689655172406\n"
          ]
        }
      ]
    },
    {
      "cell_type": "markdown",
      "source": [
        "## Повторите п. 4, п. 5"
      ],
      "metadata": {
        "id": "BGJiSz3wNOPw"
      }
    },
    {
      "cell_type": "code",
      "source": [
        "# целевой признак - Type\n",
        "X_2 = df_2.drop(['Type'], axis=1)\n",
        "y_2 = df_2['Type']"
      ],
      "metadata": {
        "id": "Pj3lv8n9Aafb"
      },
      "execution_count": 197,
      "outputs": []
    },
    {
      "cell_type": "code",
      "source": [
        "# Разделим данные на обучающую и тестовую выборки\n",
        "X_train, X_test, y_train, y_test = train_test_split(X_2, y_2, test_size=0.2, random_state=42)"
      ],
      "metadata": {
        "id": "LirEAABnAafl"
      },
      "execution_count": 198,
      "outputs": []
    },
    {
      "cell_type": "code",
      "source": [
        "X_train.shape"
      ],
      "metadata": {
        "colab": {
          "base_uri": "https://localhost:8080/"
        },
        "outputId": "582022e9-2bfe-4df8-ee58-6a2d09d365da",
        "id": "CN3XZ_fAAafl"
      },
      "execution_count": 199,
      "outputs": [
        {
          "output_type": "execute_result",
          "data": {
            "text/plain": [
              "(124, 9)"
            ]
          },
          "metadata": {},
          "execution_count": 199
        }
      ]
    },
    {
      "cell_type": "code",
      "source": [
        "X_test.shape"
      ],
      "metadata": {
        "colab": {
          "base_uri": "https://localhost:8080/"
        },
        "outputId": "1819d578-231c-4b53-a783-caeb97295be3",
        "id": "fLs1b5cxAafl"
      },
      "execution_count": 200,
      "outputs": [
        {
          "output_type": "execute_result",
          "data": {
            "text/plain": [
              "(32, 9)"
            ]
          },
          "metadata": {},
          "execution_count": 200
        }
      ]
    },
    {
      "cell_type": "code",
      "source": [
        "# обучим модель дерева решений random forest classifier\n",
        "rfc = RandomForestClassifier()\n",
        "rfc.fit(X_train, y_train)"
      ],
      "metadata": {
        "colab": {
          "base_uri": "https://localhost:8080/",
          "height": 80
        },
        "outputId": "5fcdad2b-10b8-40b4-9b77-1752f1a29bb0",
        "id": "PRJlQc6CAafm"
      },
      "execution_count": 201,
      "outputs": [
        {
          "output_type": "execute_result",
          "data": {
            "text/plain": [
              "RandomForestClassifier()"
            ],
            "text/html": [
              "<style>#sk-container-id-3 {\n",
              "  /* Definition of color scheme common for light and dark mode */\n",
              "  --sklearn-color-text: black;\n",
              "  --sklearn-color-line: gray;\n",
              "  /* Definition of color scheme for unfitted estimators */\n",
              "  --sklearn-color-unfitted-level-0: #fff5e6;\n",
              "  --sklearn-color-unfitted-level-1: #f6e4d2;\n",
              "  --sklearn-color-unfitted-level-2: #ffe0b3;\n",
              "  --sklearn-color-unfitted-level-3: chocolate;\n",
              "  /* Definition of color scheme for fitted estimators */\n",
              "  --sklearn-color-fitted-level-0: #f0f8ff;\n",
              "  --sklearn-color-fitted-level-1: #d4ebff;\n",
              "  --sklearn-color-fitted-level-2: #b3dbfd;\n",
              "  --sklearn-color-fitted-level-3: cornflowerblue;\n",
              "\n",
              "  /* Specific color for light theme */\n",
              "  --sklearn-color-text-on-default-background: var(--sg-text-color, var(--theme-code-foreground, var(--jp-content-font-color1, black)));\n",
              "  --sklearn-color-background: var(--sg-background-color, var(--theme-background, var(--jp-layout-color0, white)));\n",
              "  --sklearn-color-border-box: var(--sg-text-color, var(--theme-code-foreground, var(--jp-content-font-color1, black)));\n",
              "  --sklearn-color-icon: #696969;\n",
              "\n",
              "  @media (prefers-color-scheme: dark) {\n",
              "    /* Redefinition of color scheme for dark theme */\n",
              "    --sklearn-color-text-on-default-background: var(--sg-text-color, var(--theme-code-foreground, var(--jp-content-font-color1, white)));\n",
              "    --sklearn-color-background: var(--sg-background-color, var(--theme-background, var(--jp-layout-color0, #111)));\n",
              "    --sklearn-color-border-box: var(--sg-text-color, var(--theme-code-foreground, var(--jp-content-font-color1, white)));\n",
              "    --sklearn-color-icon: #878787;\n",
              "  }\n",
              "}\n",
              "\n",
              "#sk-container-id-3 {\n",
              "  color: var(--sklearn-color-text);\n",
              "}\n",
              "\n",
              "#sk-container-id-3 pre {\n",
              "  padding: 0;\n",
              "}\n",
              "\n",
              "#sk-container-id-3 input.sk-hidden--visually {\n",
              "  border: 0;\n",
              "  clip: rect(1px 1px 1px 1px);\n",
              "  clip: rect(1px, 1px, 1px, 1px);\n",
              "  height: 1px;\n",
              "  margin: -1px;\n",
              "  overflow: hidden;\n",
              "  padding: 0;\n",
              "  position: absolute;\n",
              "  width: 1px;\n",
              "}\n",
              "\n",
              "#sk-container-id-3 div.sk-dashed-wrapped {\n",
              "  border: 1px dashed var(--sklearn-color-line);\n",
              "  margin: 0 0.4em 0.5em 0.4em;\n",
              "  box-sizing: border-box;\n",
              "  padding-bottom: 0.4em;\n",
              "  background-color: var(--sklearn-color-background);\n",
              "}\n",
              "\n",
              "#sk-container-id-3 div.sk-container {\n",
              "  /* jupyter's `normalize.less` sets `[hidden] { display: none; }`\n",
              "     but bootstrap.min.css set `[hidden] { display: none !important; }`\n",
              "     so we also need the `!important` here to be able to override the\n",
              "     default hidden behavior on the sphinx rendered scikit-learn.org.\n",
              "     See: https://github.com/scikit-learn/scikit-learn/issues/21755 */\n",
              "  display: inline-block !important;\n",
              "  position: relative;\n",
              "}\n",
              "\n",
              "#sk-container-id-3 div.sk-text-repr-fallback {\n",
              "  display: none;\n",
              "}\n",
              "\n",
              "div.sk-parallel-item,\n",
              "div.sk-serial,\n",
              "div.sk-item {\n",
              "  /* draw centered vertical line to link estimators */\n",
              "  background-image: linear-gradient(var(--sklearn-color-text-on-default-background), var(--sklearn-color-text-on-default-background));\n",
              "  background-size: 2px 100%;\n",
              "  background-repeat: no-repeat;\n",
              "  background-position: center center;\n",
              "}\n",
              "\n",
              "/* Parallel-specific style estimator block */\n",
              "\n",
              "#sk-container-id-3 div.sk-parallel-item::after {\n",
              "  content: \"\";\n",
              "  width: 100%;\n",
              "  border-bottom: 2px solid var(--sklearn-color-text-on-default-background);\n",
              "  flex-grow: 1;\n",
              "}\n",
              "\n",
              "#sk-container-id-3 div.sk-parallel {\n",
              "  display: flex;\n",
              "  align-items: stretch;\n",
              "  justify-content: center;\n",
              "  background-color: var(--sklearn-color-background);\n",
              "  position: relative;\n",
              "}\n",
              "\n",
              "#sk-container-id-3 div.sk-parallel-item {\n",
              "  display: flex;\n",
              "  flex-direction: column;\n",
              "}\n",
              "\n",
              "#sk-container-id-3 div.sk-parallel-item:first-child::after {\n",
              "  align-self: flex-end;\n",
              "  width: 50%;\n",
              "}\n",
              "\n",
              "#sk-container-id-3 div.sk-parallel-item:last-child::after {\n",
              "  align-self: flex-start;\n",
              "  width: 50%;\n",
              "}\n",
              "\n",
              "#sk-container-id-3 div.sk-parallel-item:only-child::after {\n",
              "  width: 0;\n",
              "}\n",
              "\n",
              "/* Serial-specific style estimator block */\n",
              "\n",
              "#sk-container-id-3 div.sk-serial {\n",
              "  display: flex;\n",
              "  flex-direction: column;\n",
              "  align-items: center;\n",
              "  background-color: var(--sklearn-color-background);\n",
              "  padding-right: 1em;\n",
              "  padding-left: 1em;\n",
              "}\n",
              "\n",
              "\n",
              "/* Toggleable style: style used for estimator/Pipeline/ColumnTransformer box that is\n",
              "clickable and can be expanded/collapsed.\n",
              "- Pipeline and ColumnTransformer use this feature and define the default style\n",
              "- Estimators will overwrite some part of the style using the `sk-estimator` class\n",
              "*/\n",
              "\n",
              "/* Pipeline and ColumnTransformer style (default) */\n",
              "\n",
              "#sk-container-id-3 div.sk-toggleable {\n",
              "  /* Default theme specific background. It is overwritten whether we have a\n",
              "  specific estimator or a Pipeline/ColumnTransformer */\n",
              "  background-color: var(--sklearn-color-background);\n",
              "}\n",
              "\n",
              "/* Toggleable label */\n",
              "#sk-container-id-3 label.sk-toggleable__label {\n",
              "  cursor: pointer;\n",
              "  display: block;\n",
              "  width: 100%;\n",
              "  margin-bottom: 0;\n",
              "  padding: 0.5em;\n",
              "  box-sizing: border-box;\n",
              "  text-align: center;\n",
              "}\n",
              "\n",
              "#sk-container-id-3 label.sk-toggleable__label-arrow:before {\n",
              "  /* Arrow on the left of the label */\n",
              "  content: \"▸\";\n",
              "  float: left;\n",
              "  margin-right: 0.25em;\n",
              "  color: var(--sklearn-color-icon);\n",
              "}\n",
              "\n",
              "#sk-container-id-3 label.sk-toggleable__label-arrow:hover:before {\n",
              "  color: var(--sklearn-color-text);\n",
              "}\n",
              "\n",
              "/* Toggleable content - dropdown */\n",
              "\n",
              "#sk-container-id-3 div.sk-toggleable__content {\n",
              "  max-height: 0;\n",
              "  max-width: 0;\n",
              "  overflow: hidden;\n",
              "  text-align: left;\n",
              "  /* unfitted */\n",
              "  background-color: var(--sklearn-color-unfitted-level-0);\n",
              "}\n",
              "\n",
              "#sk-container-id-3 div.sk-toggleable__content.fitted {\n",
              "  /* fitted */\n",
              "  background-color: var(--sklearn-color-fitted-level-0);\n",
              "}\n",
              "\n",
              "#sk-container-id-3 div.sk-toggleable__content pre {\n",
              "  margin: 0.2em;\n",
              "  border-radius: 0.25em;\n",
              "  color: var(--sklearn-color-text);\n",
              "  /* unfitted */\n",
              "  background-color: var(--sklearn-color-unfitted-level-0);\n",
              "}\n",
              "\n",
              "#sk-container-id-3 div.sk-toggleable__content.fitted pre {\n",
              "  /* unfitted */\n",
              "  background-color: var(--sklearn-color-fitted-level-0);\n",
              "}\n",
              "\n",
              "#sk-container-id-3 input.sk-toggleable__control:checked~div.sk-toggleable__content {\n",
              "  /* Expand drop-down */\n",
              "  max-height: 200px;\n",
              "  max-width: 100%;\n",
              "  overflow: auto;\n",
              "}\n",
              "\n",
              "#sk-container-id-3 input.sk-toggleable__control:checked~label.sk-toggleable__label-arrow:before {\n",
              "  content: \"▾\";\n",
              "}\n",
              "\n",
              "/* Pipeline/ColumnTransformer-specific style */\n",
              "\n",
              "#sk-container-id-3 div.sk-label input.sk-toggleable__control:checked~label.sk-toggleable__label {\n",
              "  color: var(--sklearn-color-text);\n",
              "  background-color: var(--sklearn-color-unfitted-level-2);\n",
              "}\n",
              "\n",
              "#sk-container-id-3 div.sk-label.fitted input.sk-toggleable__control:checked~label.sk-toggleable__label {\n",
              "  background-color: var(--sklearn-color-fitted-level-2);\n",
              "}\n",
              "\n",
              "/* Estimator-specific style */\n",
              "\n",
              "/* Colorize estimator box */\n",
              "#sk-container-id-3 div.sk-estimator input.sk-toggleable__control:checked~label.sk-toggleable__label {\n",
              "  /* unfitted */\n",
              "  background-color: var(--sklearn-color-unfitted-level-2);\n",
              "}\n",
              "\n",
              "#sk-container-id-3 div.sk-estimator.fitted input.sk-toggleable__control:checked~label.sk-toggleable__label {\n",
              "  /* fitted */\n",
              "  background-color: var(--sklearn-color-fitted-level-2);\n",
              "}\n",
              "\n",
              "#sk-container-id-3 div.sk-label label.sk-toggleable__label,\n",
              "#sk-container-id-3 div.sk-label label {\n",
              "  /* The background is the default theme color */\n",
              "  color: var(--sklearn-color-text-on-default-background);\n",
              "}\n",
              "\n",
              "/* On hover, darken the color of the background */\n",
              "#sk-container-id-3 div.sk-label:hover label.sk-toggleable__label {\n",
              "  color: var(--sklearn-color-text);\n",
              "  background-color: var(--sklearn-color-unfitted-level-2);\n",
              "}\n",
              "\n",
              "/* Label box, darken color on hover, fitted */\n",
              "#sk-container-id-3 div.sk-label.fitted:hover label.sk-toggleable__label.fitted {\n",
              "  color: var(--sklearn-color-text);\n",
              "  background-color: var(--sklearn-color-fitted-level-2);\n",
              "}\n",
              "\n",
              "/* Estimator label */\n",
              "\n",
              "#sk-container-id-3 div.sk-label label {\n",
              "  font-family: monospace;\n",
              "  font-weight: bold;\n",
              "  display: inline-block;\n",
              "  line-height: 1.2em;\n",
              "}\n",
              "\n",
              "#sk-container-id-3 div.sk-label-container {\n",
              "  text-align: center;\n",
              "}\n",
              "\n",
              "/* Estimator-specific */\n",
              "#sk-container-id-3 div.sk-estimator {\n",
              "  font-family: monospace;\n",
              "  border: 1px dotted var(--sklearn-color-border-box);\n",
              "  border-radius: 0.25em;\n",
              "  box-sizing: border-box;\n",
              "  margin-bottom: 0.5em;\n",
              "  /* unfitted */\n",
              "  background-color: var(--sklearn-color-unfitted-level-0);\n",
              "}\n",
              "\n",
              "#sk-container-id-3 div.sk-estimator.fitted {\n",
              "  /* fitted */\n",
              "  background-color: var(--sklearn-color-fitted-level-0);\n",
              "}\n",
              "\n",
              "/* on hover */\n",
              "#sk-container-id-3 div.sk-estimator:hover {\n",
              "  /* unfitted */\n",
              "  background-color: var(--sklearn-color-unfitted-level-2);\n",
              "}\n",
              "\n",
              "#sk-container-id-3 div.sk-estimator.fitted:hover {\n",
              "  /* fitted */\n",
              "  background-color: var(--sklearn-color-fitted-level-2);\n",
              "}\n",
              "\n",
              "/* Specification for estimator info (e.g. \"i\" and \"?\") */\n",
              "\n",
              "/* Common style for \"i\" and \"?\" */\n",
              "\n",
              ".sk-estimator-doc-link,\n",
              "a:link.sk-estimator-doc-link,\n",
              "a:visited.sk-estimator-doc-link {\n",
              "  float: right;\n",
              "  font-size: smaller;\n",
              "  line-height: 1em;\n",
              "  font-family: monospace;\n",
              "  background-color: var(--sklearn-color-background);\n",
              "  border-radius: 1em;\n",
              "  height: 1em;\n",
              "  width: 1em;\n",
              "  text-decoration: none !important;\n",
              "  margin-left: 1ex;\n",
              "  /* unfitted */\n",
              "  border: var(--sklearn-color-unfitted-level-1) 1pt solid;\n",
              "  color: var(--sklearn-color-unfitted-level-1);\n",
              "}\n",
              "\n",
              ".sk-estimator-doc-link.fitted,\n",
              "a:link.sk-estimator-doc-link.fitted,\n",
              "a:visited.sk-estimator-doc-link.fitted {\n",
              "  /* fitted */\n",
              "  border: var(--sklearn-color-fitted-level-1) 1pt solid;\n",
              "  color: var(--sklearn-color-fitted-level-1);\n",
              "}\n",
              "\n",
              "/* On hover */\n",
              "div.sk-estimator:hover .sk-estimator-doc-link:hover,\n",
              ".sk-estimator-doc-link:hover,\n",
              "div.sk-label-container:hover .sk-estimator-doc-link:hover,\n",
              ".sk-estimator-doc-link:hover {\n",
              "  /* unfitted */\n",
              "  background-color: var(--sklearn-color-unfitted-level-3);\n",
              "  color: var(--sklearn-color-background);\n",
              "  text-decoration: none;\n",
              "}\n",
              "\n",
              "div.sk-estimator.fitted:hover .sk-estimator-doc-link.fitted:hover,\n",
              ".sk-estimator-doc-link.fitted:hover,\n",
              "div.sk-label-container:hover .sk-estimator-doc-link.fitted:hover,\n",
              ".sk-estimator-doc-link.fitted:hover {\n",
              "  /* fitted */\n",
              "  background-color: var(--sklearn-color-fitted-level-3);\n",
              "  color: var(--sklearn-color-background);\n",
              "  text-decoration: none;\n",
              "}\n",
              "\n",
              "/* Span, style for the box shown on hovering the info icon */\n",
              ".sk-estimator-doc-link span {\n",
              "  display: none;\n",
              "  z-index: 9999;\n",
              "  position: relative;\n",
              "  font-weight: normal;\n",
              "  right: .2ex;\n",
              "  padding: .5ex;\n",
              "  margin: .5ex;\n",
              "  width: min-content;\n",
              "  min-width: 20ex;\n",
              "  max-width: 50ex;\n",
              "  color: var(--sklearn-color-text);\n",
              "  box-shadow: 2pt 2pt 4pt #999;\n",
              "  /* unfitted */\n",
              "  background: var(--sklearn-color-unfitted-level-0);\n",
              "  border: .5pt solid var(--sklearn-color-unfitted-level-3);\n",
              "}\n",
              "\n",
              ".sk-estimator-doc-link.fitted span {\n",
              "  /* fitted */\n",
              "  background: var(--sklearn-color-fitted-level-0);\n",
              "  border: var(--sklearn-color-fitted-level-3);\n",
              "}\n",
              "\n",
              ".sk-estimator-doc-link:hover span {\n",
              "  display: block;\n",
              "}\n",
              "\n",
              "/* \"?\"-specific style due to the `<a>` HTML tag */\n",
              "\n",
              "#sk-container-id-3 a.estimator_doc_link {\n",
              "  float: right;\n",
              "  font-size: 1rem;\n",
              "  line-height: 1em;\n",
              "  font-family: monospace;\n",
              "  background-color: var(--sklearn-color-background);\n",
              "  border-radius: 1rem;\n",
              "  height: 1rem;\n",
              "  width: 1rem;\n",
              "  text-decoration: none;\n",
              "  /* unfitted */\n",
              "  color: var(--sklearn-color-unfitted-level-1);\n",
              "  border: var(--sklearn-color-unfitted-level-1) 1pt solid;\n",
              "}\n",
              "\n",
              "#sk-container-id-3 a.estimator_doc_link.fitted {\n",
              "  /* fitted */\n",
              "  border: var(--sklearn-color-fitted-level-1) 1pt solid;\n",
              "  color: var(--sklearn-color-fitted-level-1);\n",
              "}\n",
              "\n",
              "/* On hover */\n",
              "#sk-container-id-3 a.estimator_doc_link:hover {\n",
              "  /* unfitted */\n",
              "  background-color: var(--sklearn-color-unfitted-level-3);\n",
              "  color: var(--sklearn-color-background);\n",
              "  text-decoration: none;\n",
              "}\n",
              "\n",
              "#sk-container-id-3 a.estimator_doc_link.fitted:hover {\n",
              "  /* fitted */\n",
              "  background-color: var(--sklearn-color-fitted-level-3);\n",
              "}\n",
              "</style><div id=\"sk-container-id-3\" class=\"sk-top-container\"><div class=\"sk-text-repr-fallback\"><pre>RandomForestClassifier()</pre><b>In a Jupyter environment, please rerun this cell to show the HTML representation or trust the notebook. <br />On GitHub, the HTML representation is unable to render, please try loading this page with nbviewer.org.</b></div><div class=\"sk-container\" hidden><div class=\"sk-item\"><div class=\"sk-estimator fitted sk-toggleable\"><input class=\"sk-toggleable__control sk-hidden--visually\" id=\"sk-estimator-id-3\" type=\"checkbox\" checked><label for=\"sk-estimator-id-3\" class=\"sk-toggleable__label fitted sk-toggleable__label-arrow fitted\">&nbsp;&nbsp;RandomForestClassifier<a class=\"sk-estimator-doc-link fitted\" rel=\"noreferrer\" target=\"_blank\" href=\"https://scikit-learn.org/1.5/modules/generated/sklearn.ensemble.RandomForestClassifier.html\">?<span>Documentation for RandomForestClassifier</span></a><span class=\"sk-estimator-doc-link fitted\">i<span>Fitted</span></span></label><div class=\"sk-toggleable__content fitted\"><pre>RandomForestClassifier()</pre></div> </div></div></div></div>"
            ]
          },
          "metadata": {},
          "execution_count": 201
        }
      ]
    },
    {
      "cell_type": "code",
      "source": [
        "y_pred = rfc.predict(X_test)"
      ],
      "metadata": {
        "id": "qkfch1cdAafm"
      },
      "execution_count": 202,
      "outputs": []
    },
    {
      "cell_type": "code",
      "source": [
        "y_pred"
      ],
      "metadata": {
        "colab": {
          "base_uri": "https://localhost:8080/"
        },
        "outputId": "2efb1de3-cb73-456b-f265-ba9bd4c103d5",
        "id": "ZDBLX3cKAafm"
      },
      "execution_count": 203,
      "outputs": [
        {
          "output_type": "execute_result",
          "data": {
            "text/plain": [
              "array([2, 2, 2, 2, 2, 1, 2, 1, 1, 6, 2, 1, 1, 2, 1, 1, 2, 2, 7, 2, 2, 2,\n",
              "       1, 2, 1, 1, 2, 3, 1, 2, 1, 7])"
            ]
          },
          "metadata": {},
          "execution_count": 203
        }
      ]
    },
    {
      "cell_type": "code",
      "source": [
        "# посчитаем точность\n",
        "accuracy_score(y_test, y_pred)"
      ],
      "metadata": {
        "colab": {
          "base_uri": "https://localhost:8080/"
        },
        "outputId": "b0eed83d-aed8-4c99-ef50-b7f3db7bf40b",
        "id": "sQNSRxSKAafm"
      },
      "execution_count": 204,
      "outputs": [
        {
          "output_type": "execute_result",
          "data": {
            "text/plain": [
              "0.71875"
            ]
          },
          "metadata": {},
          "execution_count": 204
        }
      ]
    },
    {
      "cell_type": "markdown",
      "source": [
        "## Сформулируйте выводы по проделанной работе"
      ],
      "metadata": {
        "id": "Ag2WA9SyNURf"
      }
    },
    {
      "cell_type": "markdown",
      "source": [
        "а) Кратко опишите, какие преобразования были сделаны с данными"
      ],
      "metadata": {
        "id": "kVvrGBsCNdTp"
      }
    },
    {
      "cell_type": "markdown",
      "source": [
        "b) Сравните точность двух моделей"
      ],
      "metadata": {
        "id": "UeB35F5lNl-S"
      }
    },
    {
      "cell_type": "markdown",
      "source": [
        "c) Напишите свое мнение, нужно ли исследовать данные на выбросы, для чего это делается, плюсы и минусы подхода"
      ],
      "metadata": {
        "id": "k2w_ywEINrLa"
      }
    },
    {
      "cell_type": "markdown",
      "source": [
        "После загрузки данных и разведочного анализа была построена модель RandomForestClassifier с точностью 0,86. После этого была проведена работа по поиску и удалению выбросов. После построения боксплотов были удалены все значения признаков, выходящие за пределы нижних и верхних усов. После этого вновь была построена модель RandomForestClassifier на очищенных данных с точностью значительно ниже - 0,72. Точность исходной модели оказалась выше, чем после очистки, что означает, что очистку надо было выполнять более тонко и оставлять значения признаков, незначительно выходящие за пределы усов. Так же для оценки выбросов, помимо построения боксплотов, мной был выполнен еще один метод, но, к сожалению, я не до конца понял, как им пользоваться и как отсекать наденные выбросы, поэтому в полной мере оценить его возможности и посмотреть на результаты мне не удалось. Плюс в том, что исследовать данные на выбросы и удалять их необходимо, т.к. это зачастую приводит к улучшению качества модели. А минус - трудоемкость процесса и неоднозначность, т.к. это может и навредить, как получилось в данном случае.\n",
        "\n"
      ],
      "metadata": {
        "id": "AEUgDL2OA9t-"
      }
    }
  ]
}